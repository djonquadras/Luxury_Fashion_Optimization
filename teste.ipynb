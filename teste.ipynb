{
 "cells": [
  {
   "cell_type": "code",
   "execution_count": 1,
   "metadata": {},
   "outputs": [
    {
     "name": "stdout",
     "output_type": "stream",
     "text": [
      "Etapa 1 iniciada em 0\n",
      "Etapa 1 finalizada em 5\n",
      "Etapa 2a iniciada em 5\n",
      "Etapa 2b iniciada em 5\n",
      "Etapa 2a finalizada em 8\n",
      "Etapa 2b finalizada em 9\n",
      "Etapa 3 iniciada em 9\n",
      "Etapa 3 finalizada em 11\n"
     ]
    }
   ],
   "source": [
    "import simpy\n",
    "\n",
    "def etapa1(env):\n",
    "    print(f'Etapa 1 iniciada em {env.now}')\n",
    "    yield env.timeout(5)  # Etapa 1 leva 5 unidades de tempo\n",
    "    print(f'Etapa 1 finalizada em {env.now}')\n",
    "\n",
    "def etapa2a(env):\n",
    "    print(f'Etapa 2a iniciada em {env.now}')\n",
    "    yield env.timeout(3)  # Etapa 2a leva 3 unidades de tempo\n",
    "    print(f'Etapa 2a finalizada em {env.now}')\n",
    "\n",
    "def etapa2b(env):\n",
    "    print(f'Etapa 2b iniciada em {env.now}')\n",
    "    yield env.timeout(4)  # Etapa 2b leva 4 unidades de tempo\n",
    "    print(f'Etapa 2b finalizada em {env.now}')\n",
    "\n",
    "def etapa3(env, etapa2a_process, etapa2b_process):\n",
    "    # Aguarda que as duas etapas 2a e 2b sejam finalizadas\n",
    "    yield env.all_of([etapa2a_process, etapa2b_process])\n",
    "    print(f'Etapa 3 iniciada em {env.now}')\n",
    "    yield env.timeout(2)  # Etapa 3 leva 2 unidades de tempo\n",
    "    print(f'Etapa 3 finalizada em {env.now}')\n",
    "\n",
    "def processo_principal(env):\n",
    "    yield env.process(etapa1(env))  # Inicia etapa 1 e espera a conclusão\n",
    "\n",
    "    # Inicia etapas 2a e 2b em paralelo\n",
    "    etapa2a_process = env.process(etapa2a(env))\n",
    "    etapa2b_process = env.process(etapa2b(env))\n",
    "\n",
    "    # Inicia etapa 3 apenas quando 2a e 2b forem finalizadas\n",
    "    yield env.process(etapa3(env, etapa2a_process, etapa2b_process))\n",
    "\n",
    "# Configura e executa o ambiente de simulação\n",
    "env = simpy.Environment()\n",
    "env.process(processo_principal(env))\n",
    "env.run()\n"
   ]
  },
  {
   "cell_type": "code",
   "execution_count": 3,
   "metadata": {},
   "outputs": [
    {
     "name": "stdout",
     "output_type": "stream",
     "text": [
      "Processo A tentando usar o recurso em 0\n",
      "Processo B tentando usar o recurso em 0\n",
      "Processo A conseguiu o recurso em 0\n",
      "Processo A liberou o recurso em 3\n",
      "Processo B conseguiu o recurso em 3\n",
      "Alterando a capacidade do recurso para 2 em 5\n",
      "Processo B liberou o recurso em 6\n"
     ]
    }
   ],
   "source": [
    "import simpy\n",
    "\n",
    "class DynamicResource:\n",
    "    def __init__(self, env, initial_capacity):\n",
    "        self.env = env\n",
    "        self.capacity = initial_capacity\n",
    "        self.resource = simpy.Resource(env, capacity=initial_capacity)\n",
    "\n",
    "    def request(self):\n",
    "        return self.resource.request()\n",
    "\n",
    "    def release(self, req):\n",
    "        return self.resource.release(req)\n",
    "\n",
    "    def set_capacity(self, new_capacity):\n",
    "        print(f\"Alterando a capacidade do recurso para {new_capacity} em {self.env.now}\")\n",
    "        self.capacity = new_capacity\n",
    "        self.resource = simpy.Resource(self.env, capacity=new_capacity)\n",
    "\n",
    "def processo(env, recurso, nome):\n",
    "    print(f'Processo {nome} tentando usar o recurso em {env.now}')\n",
    "    with recurso.request() as req:\n",
    "        yield req\n",
    "        print(f'Processo {nome} conseguiu o recurso em {env.now}')\n",
    "        yield env.timeout(3)\n",
    "        print(f'Processo {nome} liberou o recurso em {env.now}')\n",
    "        recurso.release(req)\n",
    "\n",
    "def ajustar_recursos(env, recurso, nova_capacidade):\n",
    "    yield env.timeout(5)  # Aguarda 5 unidades de tempo para alterar a capacidade\n",
    "    recurso.set_capacity(nova_capacidade)\n",
    "\n",
    "# Configura o ambiente e o recurso com capacidade inicial 1\n",
    "env = simpy.Environment()\n",
    "recurso = DynamicResource(env, initial_capacity=1)\n",
    "\n",
    "# Inicia os processos e o ajuste de recursos\n",
    "env.process(processo(env, recurso, 'A'))\n",
    "env.process(processo(env, recurso, 'B'))\n",
    "env.process(ajustar_recursos(env, recurso, 2))\n",
    "\n",
    "# Executa a simulação\n",
    "env.run()\n"
   ]
  },
  {
   "cell_type": "code",
   "execution_count": 51,
   "metadata": {},
   "outputs": [
    {
     "name": "stdout",
     "output_type": "stream",
     "text": [
      "Valor gerado: 144.71030753287042\n",
      "Valor gerado: 152.36524451619468\n",
      "Valor gerado: 149.73994598034105\n",
      "Valor gerado: 143.164366926351\n",
      "Valor gerado: 146.57364407401562\n",
      "Valor gerado: 154.76902927383202\n",
      "Valor gerado: 139.78195378053044\n"
     ]
    }
   ],
   "source": [
    "from numpy.random import normal\n",
    "from numpy.random import seed\n",
    "\n",
    "seed(123)\n",
    "\n",
    "media = 148.7\n",
    "\n",
    "desvio_padrao = 3.675\n",
    "\n",
    "\n",
    "print(f'Valor gerado: {normal(media, desvio_padrao)}')\n",
    "print(f'Valor gerado: {normal(media, desvio_padrao)}')\n",
    "print(f'Valor gerado: {normal(media, desvio_padrao)}')\n",
    "print(f'Valor gerado: {normal(media, desvio_padrao)}')\n",
    "print(f'Valor gerado: {normal(media, desvio_padrao)}')\n",
    "print(f'Valor gerado: {normal(media, desvio_padrao)}')\n",
    "print(f'Valor gerado: {normal(media, desvio_padrao)}')\n",
    "\n"
   ]
  }
 ],
 "metadata": {
  "kernelspec": {
   "display_name": ".env",
   "language": "python",
   "name": "python3"
  },
  "language_info": {
   "codemirror_mode": {
    "name": "ipython",
    "version": 3
   },
   "file_extension": ".py",
   "mimetype": "text/x-python",
   "name": "python",
   "nbconvert_exporter": "python",
   "pygments_lexer": "ipython3",
   "version": "3.9.13"
  }
 },
 "nbformat": 4,
 "nbformat_minor": 2
}
