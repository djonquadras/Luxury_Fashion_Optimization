{
 "cells": [
  {
   "cell_type": "code",
   "execution_count": 4,
   "metadata": {},
   "outputs": [
    {
     "name": "stdout",
     "output_type": "stream",
     "text": [
      "Tabela de Frequência Percentual de Máquinas:\n"
     ]
    },
    {
     "data": {
      "text/html": [
       "<div>\n",
       "<style scoped>\n",
       "    .dataframe tbody tr th:only-of-type {\n",
       "        vertical-align: middle;\n",
       "    }\n",
       "\n",
       "    .dataframe tbody tr th {\n",
       "        vertical-align: top;\n",
       "    }\n",
       "\n",
       "    .dataframe thead th {\n",
       "        text-align: right;\n",
       "    }\n",
       "</style>\n",
       "<table border=\"1\" class=\"dataframe\">\n",
       "  <thead>\n",
       "    <tr style=\"text-align: right;\">\n",
       "      <th></th>\n",
       "      <th>Scarnitura e Colore CAG</th>\n",
       "      <th>Colore 1 CAG</th>\n",
       "      <th>Automatica CAG</th>\n",
       "      <th>Colore 2 CAG</th>\n",
       "      <th>Banco - Bordino CAG</th>\n",
       "      <th>Spaccapelle</th>\n",
       "      <th>Banco CAG</th>\n",
       "      <th>Scarnitura Iniziale</th>\n",
       "      <th>Pressa</th>\n",
       "      <th>Step IN</th>\n",
       "      <th>Trancia e timbri CAG</th>\n",
       "    </tr>\n",
       "  </thead>\n",
       "  <tbody>\n",
       "    <tr>\n",
       "      <th>Scarnitura e Colore CAG</th>\n",
       "      <td>4.545455</td>\n",
       "      <td>95.454545</td>\n",
       "      <td>0.000000</td>\n",
       "      <td>0.000000</td>\n",
       "      <td>0.000000</td>\n",
       "      <td>0.000000</td>\n",
       "      <td>0.000000</td>\n",
       "      <td>0.000000</td>\n",
       "      <td>0.000000</td>\n",
       "      <td>0.000000</td>\n",
       "      <td>0.000000</td>\n",
       "    </tr>\n",
       "    <tr>\n",
       "      <th>Colore 1 CAG</th>\n",
       "      <td>0.000000</td>\n",
       "      <td>4.166667</td>\n",
       "      <td>91.666667</td>\n",
       "      <td>4.166667</td>\n",
       "      <td>0.000000</td>\n",
       "      <td>0.000000</td>\n",
       "      <td>0.000000</td>\n",
       "      <td>0.000000</td>\n",
       "      <td>0.000000</td>\n",
       "      <td>0.000000</td>\n",
       "      <td>0.000000</td>\n",
       "    </tr>\n",
       "    <tr>\n",
       "      <th>Automatica CAG</th>\n",
       "      <td>0.000000</td>\n",
       "      <td>0.000000</td>\n",
       "      <td>0.000000</td>\n",
       "      <td>4.347826</td>\n",
       "      <td>95.652174</td>\n",
       "      <td>0.000000</td>\n",
       "      <td>0.000000</td>\n",
       "      <td>0.000000</td>\n",
       "      <td>0.000000</td>\n",
       "      <td>0.000000</td>\n",
       "      <td>0.000000</td>\n",
       "    </tr>\n",
       "    <tr>\n",
       "      <th>Colore 2 CAG</th>\n",
       "      <td>0.000000</td>\n",
       "      <td>0.000000</td>\n",
       "      <td>4.000000</td>\n",
       "      <td>12.000000</td>\n",
       "      <td>8.000000</td>\n",
       "      <td>72.000000</td>\n",
       "      <td>4.000000</td>\n",
       "      <td>0.000000</td>\n",
       "      <td>0.000000</td>\n",
       "      <td>0.000000</td>\n",
       "      <td>0.000000</td>\n",
       "    </tr>\n",
       "    <tr>\n",
       "      <th>Banco - Bordino CAG</th>\n",
       "      <td>0.000000</td>\n",
       "      <td>0.000000</td>\n",
       "      <td>0.000000</td>\n",
       "      <td>80.769231</td>\n",
       "      <td>7.692308</td>\n",
       "      <td>11.538462</td>\n",
       "      <td>0.000000</td>\n",
       "      <td>0.000000</td>\n",
       "      <td>0.000000</td>\n",
       "      <td>0.000000</td>\n",
       "      <td>0.000000</td>\n",
       "    </tr>\n",
       "    <tr>\n",
       "      <th>Spaccapelle</th>\n",
       "      <td>0.000000</td>\n",
       "      <td>0.000000</td>\n",
       "      <td>0.000000</td>\n",
       "      <td>0.000000</td>\n",
       "      <td>0.000000</td>\n",
       "      <td>0.000000</td>\n",
       "      <td>13.636364</td>\n",
       "      <td>72.727273</td>\n",
       "      <td>13.636364</td>\n",
       "      <td>0.000000</td>\n",
       "      <td>0.000000</td>\n",
       "    </tr>\n",
       "    <tr>\n",
       "      <th>Banco CAG</th>\n",
       "      <td>0.000000</td>\n",
       "      <td>0.000000</td>\n",
       "      <td>0.000000</td>\n",
       "      <td>0.000000</td>\n",
       "      <td>0.000000</td>\n",
       "      <td>4.166667</td>\n",
       "      <td>0.000000</td>\n",
       "      <td>12.500000</td>\n",
       "      <td>8.333333</td>\n",
       "      <td>45.833333</td>\n",
       "      <td>29.166667</td>\n",
       "    </tr>\n",
       "    <tr>\n",
       "      <th>Scarnitura Iniziale</th>\n",
       "      <td>0.000000</td>\n",
       "      <td>0.000000</td>\n",
       "      <td>0.000000</td>\n",
       "      <td>0.000000</td>\n",
       "      <td>0.000000</td>\n",
       "      <td>0.000000</td>\n",
       "      <td>42.857143</td>\n",
       "      <td>0.000000</td>\n",
       "      <td>38.095238</td>\n",
       "      <td>19.047619</td>\n",
       "      <td>0.000000</td>\n",
       "    </tr>\n",
       "    <tr>\n",
       "      <th>Pressa</th>\n",
       "      <td>0.000000</td>\n",
       "      <td>0.000000</td>\n",
       "      <td>0.000000</td>\n",
       "      <td>0.000000</td>\n",
       "      <td>0.000000</td>\n",
       "      <td>0.000000</td>\n",
       "      <td>18.750000</td>\n",
       "      <td>12.500000</td>\n",
       "      <td>0.000000</td>\n",
       "      <td>50.000000</td>\n",
       "      <td>18.750000</td>\n",
       "    </tr>\n",
       "    <tr>\n",
       "      <th>Step IN</th>\n",
       "      <td>4.347826</td>\n",
       "      <td>0.000000</td>\n",
       "      <td>0.000000</td>\n",
       "      <td>0.000000</td>\n",
       "      <td>0.000000</td>\n",
       "      <td>0.000000</td>\n",
       "      <td>30.434783</td>\n",
       "      <td>0.000000</td>\n",
       "      <td>13.043478</td>\n",
       "      <td>0.000000</td>\n",
       "      <td>52.173913</td>\n",
       "    </tr>\n",
       "    <tr>\n",
       "      <th>Trancia e timbri CAG</th>\n",
       "      <td>79.166667</td>\n",
       "      <td>8.333333</td>\n",
       "      <td>0.000000</td>\n",
       "      <td>0.000000</td>\n",
       "      <td>0.000000</td>\n",
       "      <td>0.000000</td>\n",
       "      <td>4.166667</td>\n",
       "      <td>0.000000</td>\n",
       "      <td>0.000000</td>\n",
       "      <td>0.000000</td>\n",
       "      <td>8.333333</td>\n",
       "    </tr>\n",
       "  </tbody>\n",
       "</table>\n",
       "</div>"
      ],
      "text/plain": [
       "                         Scarnitura e Colore CAG  Colore 1 CAG  \\\n",
       "Scarnitura e Colore CAG                 4.545455     95.454545   \n",
       "Colore 1 CAG                            0.000000      4.166667   \n",
       "Automatica CAG                          0.000000      0.000000   \n",
       "Colore 2 CAG                            0.000000      0.000000   \n",
       "Banco - Bordino CAG                     0.000000      0.000000   \n",
       "Spaccapelle                             0.000000      0.000000   \n",
       "Banco CAG                               0.000000      0.000000   \n",
       "Scarnitura Iniziale                     0.000000      0.000000   \n",
       "Pressa                                  0.000000      0.000000   \n",
       "Step IN                                 4.347826      0.000000   \n",
       "Trancia e timbri CAG                   79.166667      8.333333   \n",
       "\n",
       "                         Automatica CAG  Colore 2 CAG  Banco - Bordino CAG  \\\n",
       "Scarnitura e Colore CAG        0.000000      0.000000             0.000000   \n",
       "Colore 1 CAG                  91.666667      4.166667             0.000000   \n",
       "Automatica CAG                 0.000000      4.347826            95.652174   \n",
       "Colore 2 CAG                   4.000000     12.000000             8.000000   \n",
       "Banco - Bordino CAG            0.000000     80.769231             7.692308   \n",
       "Spaccapelle                    0.000000      0.000000             0.000000   \n",
       "Banco CAG                      0.000000      0.000000             0.000000   \n",
       "Scarnitura Iniziale            0.000000      0.000000             0.000000   \n",
       "Pressa                         0.000000      0.000000             0.000000   \n",
       "Step IN                        0.000000      0.000000             0.000000   \n",
       "Trancia e timbri CAG           0.000000      0.000000             0.000000   \n",
       "\n",
       "                         Spaccapelle  Banco CAG  Scarnitura Iniziale  \\\n",
       "Scarnitura e Colore CAG     0.000000   0.000000             0.000000   \n",
       "Colore 1 CAG                0.000000   0.000000             0.000000   \n",
       "Automatica CAG              0.000000   0.000000             0.000000   \n",
       "Colore 2 CAG               72.000000   4.000000             0.000000   \n",
       "Banco - Bordino CAG        11.538462   0.000000             0.000000   \n",
       "Spaccapelle                 0.000000  13.636364            72.727273   \n",
       "Banco CAG                   4.166667   0.000000            12.500000   \n",
       "Scarnitura Iniziale         0.000000  42.857143             0.000000   \n",
       "Pressa                      0.000000  18.750000            12.500000   \n",
       "Step IN                     0.000000  30.434783             0.000000   \n",
       "Trancia e timbri CAG        0.000000   4.166667             0.000000   \n",
       "\n",
       "                            Pressa    Step IN  Trancia e timbri CAG  \n",
       "Scarnitura e Colore CAG   0.000000   0.000000              0.000000  \n",
       "Colore 1 CAG              0.000000   0.000000              0.000000  \n",
       "Automatica CAG            0.000000   0.000000              0.000000  \n",
       "Colore 2 CAG              0.000000   0.000000              0.000000  \n",
       "Banco - Bordino CAG       0.000000   0.000000              0.000000  \n",
       "Spaccapelle              13.636364   0.000000              0.000000  \n",
       "Banco CAG                 8.333333  45.833333             29.166667  \n",
       "Scarnitura Iniziale      38.095238  19.047619              0.000000  \n",
       "Pressa                    0.000000  50.000000             18.750000  \n",
       "Step IN                  13.043478   0.000000             52.173913  \n",
       "Trancia e timbri CAG      0.000000   0.000000              8.333333  "
      ]
     },
     "execution_count": 4,
     "metadata": {},
     "output_type": "execute_result"
    }
   ],
   "source": [
    "import pandas as pd\n",
    "\n",
    "# Leitura do arquivo Excel\n",
    "file_path = \"C:/Users/djonq/Desktop/analiseMaquinas.xlsx\"\n",
    "df = pd.read_excel(file_path)\n",
    "\n",
    "# Ordenar pelo mais antigo para o mais novo nas colunas Data, Hora Inicio e Hora Fim\n",
    "df = df.sort_values(by=['Data', 'Start Time', 'Finish Time']).reset_index(drop=True)\n",
    "\n",
    "df = df[(df['Model'] == \"Linea2_1 - CG2-XXX-XXX-XXX-XXX\")].reset_index(drop=True)\n",
    "\n",
    "# Lista de máquinas e criação de uma matriz de contagem\n",
    "maquinas = df['Machine'].unique()\n",
    "contagem = pd.DataFrame(0, index=maquinas, columns=maquinas)\n",
    "\n",
    "# Contar frequência de máquinas subsequentes\n",
    "for i in range(len(df) - 1):\n",
    "    maquina_atual = df.loc[i, 'Machine']\n",
    "    maquina_proxima = df.loc[i + 1, 'Machine']\n",
    "    contagem.loc[maquina_atual, maquina_proxima] += 1\n",
    "\n",
    "# Transformar contagens em porcentagens\n",
    "percentual_contagem = contagem.div(contagem.sum(axis=1), axis=0) * 100\n",
    "\n",
    "# Preencher NaNs com 0% onde não houver transição registrada\n",
    "percentual_contagem = percentual_contagem.fillna(0)\n",
    "\n",
    "# Exibir a tabela de frequência percentual\n",
    "print(\"Tabela de Frequência Percentual de Máquinas:\")\n",
    "display(percentual_contagem)\n",
    "percentual_contagem\n"
   ]
  },
  {
   "cell_type": "code",
   "execution_count": 10,
   "metadata": {},
   "outputs": [],
   "source": [
    "import pandas as pd\n",
    "\n",
    "# Leitura do arquivo Excel\n",
    "file_path = \"C:/Users/djonq/Desktop/analiseMaquinas.xlsx\"\n",
    "dataframe = pd.read_excel(file_path)\n",
    "\n",
    "# Ordenar pelo mais antigo para o mais novo nas colunas Data, Start Time e Finish Time\n",
    "dataframe = dataframe.sort_values(by=['Line', 'Model','Start Date', 'Finish Date']).reset_index(drop=True)\n",
    "\n",
    "# Filtrar o modelo desejado e redefinir o índice para começar do zero\n",
    "#model = \"Linea1_1 - CRM-XXX-XXX-XXX-XXX\"\n",
    "#df = df[df['Model'] == model].reset_index(drop=True)\n",
    "\n",
    "#model = 'HGS-XXX-XXX-XXX-XXX'\n",
    "#df[(df['Model'].str.contains(model, case=False) & df['Model'].str.contains(\"Linea2\", case=False) )]\n",
    "\n",
    "for model in dataframe['Model'].unique():\n",
    "    df = dataframe[(dataframe['Model'] == model)].reset_index(drop=True)\n",
    "\n",
    "    # Lista de máquinas e criação de matrizes de contagem para máquinas subsequentes\n",
    "    maquinas = df['Machine'].unique()\n",
    "    contagem_subsequente = pd.DataFrame(0, index=maquinas, columns=maquinas)\n",
    "\n",
    "    # Contagem de máquinas subsequentes\n",
    "    for i in range(len(df) - 1):\n",
    "        maquina_atual = df.loc[i, 'Machine']\n",
    "        maquina_proxima = df.loc[i + 1, 'Machine']\n",
    "        \n",
    "        if maquina_atual != maquina_proxima:\n",
    "            # Contar máquinas subsequentes\n",
    "            contagem_subsequente.loc[maquina_atual, maquina_proxima] += 1\n",
    "\n",
    "    # Transformar contagens em porcentagens\n",
    "    percentual_subsequente = contagem_subsequente.div(contagem_subsequente.sum(axis=1), axis=0) * 100\n",
    "\n",
    "    # Preencher NaNs com 0% onde não houver transição registrada\n",
    "    percentual_subsequente = percentual_subsequente.fillna(0)\n",
    "\n",
    "    # Adicionar a contagem total de cada máquina como uma nova coluna\n",
    "    percentual_subsequente['Total Contagem'] = df['Machine'].value_counts().reindex(maquinas).fillna(0).astype(int)\n",
    "\n",
    "    # Exibir e salvar a tabela de frequência percentual com a contagem total\n",
    "    #print(\"Tabela de Frequência Percentual de Máquinas Subsequentes com Contagem Total:\")\n",
    "    #display(percentual_subsequente)\n",
    "\n",
    "    # Salvar a tabela no arquivo Excel\n",
    "    output_path = f\"ResultsMachines/New/New2/{model}.xlsx\"\n",
    "    percentual_subsequente.to_excel(output_path)\n"
   ]
  },
  {
   "cell_type": "code",
   "execution_count": 11,
   "metadata": {},
   "outputs": [
    {
     "name": "stderr",
     "output_type": "stream",
     "text": [
      "c:\\Github\\PFD\\.env\\lib\\site-packages\\openpyxl\\styles\\stylesheet.py:237: UserWarning:\n",
      "\n",
      "Workbook contains no default style, apply openpyxl's default\n",
      "\n",
      "c:\\Github\\PFD\\.env\\lib\\site-packages\\dateutil\\parser\\_parser.py:1207: UnknownTimezoneWarning:\n",
      "\n",
      "tzname CEST identified but not understood.  Pass `tzinfos` argument in order to correctly return a timezone-aware datetime.  In a future version, this will raise an exception.\n",
      "\n"
     ]
    },
    {
     "data": {
      "application/vnd.plotly.v1+json": {
       "config": {
        "plotlyServerURL": "https://plot.ly"
       },
       "data": [
        {
         "alignmentgroup": "True",
         "base": [
          "2023-05-03T08:00:00",
          "2023-05-03T08:12:52",
          "2023-05-03T08:12:52",
          "2023-05-03T08:16:58",
          "2023-05-03T08:25:57",
          "2023-05-03T08:25:57",
          "2023-05-03T08:41:11",
          "2023-05-03T08:48:34",
          "2023-05-03T08:58:21",
          "2023-05-03T08:58:21",
          "2023-05-03T09:04:47",
          "2023-05-03T09:32:22",
          "2023-05-03T10:00:21",
          "2023-05-03T10:20:12"
         ],
         "hovertemplate": "id=54<br>start=%{base}<br>finish=%{x}<br>machine=%{y}<extra></extra>",
         "legendgroup": "54",
         "marker": {
          "color": "#636efa",
          "pattern": {
           "shape": ""
          }
         },
         "name": "54",
         "offsetgroup": "54",
         "orientation": "h",
         "showlegend": true,
         "textposition": "auto",
         "type": "bar",
         "x": [
          772000,
          124000,
          246000,
          539000,
          572000,
          914000,
          443000,
          587000,
          0,
          386000,
          1655000,
          1679000,
          1191000,
          992000
         ],
         "xaxis": "x",
         "y": [
          "P01",
          "P02",
          "P021",
          "P03",
          "P04",
          "P041",
          "P05",
          "P06",
          "P07",
          "P08",
          "P09",
          "P10",
          "P11",
          "P12"
         ],
         "yaxis": "y"
        },
        {
         "alignmentgroup": "True",
         "base": [
          "2023-05-03T08:12:52",
          "2023-05-03T08:21:07",
          "2023-05-03T08:21:07",
          "2023-05-03T08:34:45",
          "2023-05-03T08:45:41",
          "2023-05-03T08:45:41",
          "2023-05-03T08:57:17",
          "2023-05-03T09:06:31",
          "2023-05-03T09:17:45",
          "2023-05-03T09:30:28",
          "2023-05-03T09:40:00"
         ],
         "hovertemplate": "id=55<br>start=%{base}<br>finish=%{x}<br>machine=%{y}<extra></extra>",
         "legendgroup": "55",
         "marker": {
          "color": "#EF553B",
          "pattern": {
           "shape": ""
          }
         },
         "name": "55",
         "offsetgroup": "55",
         "orientation": "h",
         "showlegend": true,
         "textposition": "auto",
         "type": "bar",
         "x": [
          495000,
          345000,
          818000,
          656000,
          696000,
          506000,
          554000,
          674000,
          763000,
          572000,
          1150000
         ],
         "xaxis": "x",
         "y": [
          "P01",
          "P021",
          "P02",
          "P03",
          "P04",
          "P041",
          "P05",
          "P06",
          "P07",
          "P08",
          "P13"
         ],
         "yaxis": "y"
        },
        {
         "alignmentgroup": "True",
         "base": [
          "2023-05-03T08:21:07",
          "2023-05-03T08:34:45",
          "2023-05-03T08:34:45",
          "2023-05-03T08:45:41",
          "2023-05-03T08:57:17",
          "2023-05-03T08:57:17",
          "2023-05-03T09:07:09",
          "2023-05-03T09:17:45",
          "2023-05-03T09:30:28",
          "2023-05-03T09:45:07",
          "2023-05-03T09:59:10"
         ],
         "hovertemplate": "id=56<br>start=%{base}<br>finish=%{x}<br>machine=%{y}<extra></extra>",
         "legendgroup": "56",
         "marker": {
          "color": "#00cc96",
          "pattern": {
           "shape": ""
          }
         },
         "name": "56",
         "offsetgroup": "56",
         "orientation": "h",
         "showlegend": true,
         "textposition": "auto",
         "type": "bar",
         "x": [
          445000,
          289000,
          642000,
          694000,
          303000,
          592000,
          471000,
          564000,
          879000,
          769000,
          885000
         ],
         "xaxis": "x",
         "y": [
          "P01",
          "P021",
          "P02",
          "P03",
          "P041",
          "P04",
          "P05",
          "P06",
          "P07",
          "P08",
          "P13"
         ],
         "yaxis": "y"
        },
        {
         "alignmentgroup": "True",
         "base": [
          "2023-05-03T08:28:32",
          "2023-05-03T08:45:27",
          "2023-05-03T08:45:27",
          "2023-05-03T08:57:15",
          "2023-05-03T09:06:12",
          "2023-05-03T09:07:09",
          "2023-05-03T09:26:26",
          "2023-05-03T09:34:54",
          "2023-05-03T09:45:07",
          "2023-05-03T09:57:56",
          "2023-05-03T10:05:26",
          "2023-05-03T10:34:02",
          "2023-05-03T11:00:52",
          "2023-05-03T11:20:16"
         ],
         "hovertemplate": "id=57<br>start=%{base}<br>finish=%{x}<br>machine=%{y}<extra></extra>",
         "legendgroup": "57",
         "marker": {
          "color": "#ab63fa",
          "pattern": {
           "shape": ""
          }
         },
         "name": "57",
         "offsetgroup": "57",
         "orientation": "h",
         "showlegend": true,
         "textposition": "auto",
         "type": "bar",
         "x": [
          751000,
          133000,
          256000,
          537000,
          729000,
          495000,
          508000,
          542000,
          0,
          450000,
          1716000,
          1610000,
          1164000,
          983000
         ],
         "xaxis": "x",
         "y": [
          "P01",
          "P02",
          "P021",
          "P03",
          "P041",
          "P04",
          "P05",
          "P06",
          "P07",
          "P08",
          "P09",
          "P10",
          "P11",
          "P12"
         ],
         "yaxis": "y"
        },
        {
         "alignmentgroup": "True",
         "base": [
          "2023-05-03T08:41:03",
          "2023-05-03T08:51:59",
          "2023-05-03T08:51:59",
          "2023-05-03T09:06:12",
          "2023-05-03T09:16:38",
          "2023-05-03T09:16:38",
          "2023-05-03T09:34:54",
          "2023-05-03T09:45:01",
          "2023-05-03T09:57:07",
          "2023-05-03T10:05:26",
          "2023-05-03T10:19:19"
         ],
         "hovertemplate": "id=58<br>start=%{base}<br>finish=%{x}<br>machine=%{y}<extra></extra>",
         "legendgroup": "58",
         "marker": {
          "color": "#FFA15A",
          "pattern": {
           "shape": ""
          }
         },
         "name": "58",
         "offsetgroup": "58",
         "orientation": "h",
         "showlegend": true,
         "textposition": "auto",
         "type": "bar",
         "x": [
          656000,
          451000,
          765000,
          626000,
          588000,
          840000,
          607000,
          726000,
          0,
          833000,
          726000
         ],
         "xaxis": "x",
         "y": [
          "P01",
          "P021",
          "P02",
          "P03",
          "P05",
          "P04",
          "P05",
          "P06",
          "P07",
          "P08",
          "P13"
         ],
         "yaxis": "y"
        },
        {
         "alignmentgroup": "True",
         "base": [
          "2023-05-03T08:51:59",
          "2023-05-03T09:04:44",
          "2023-05-03T09:04:44",
          "2023-05-03T09:16:38",
          "2023-05-03T09:26:53",
          "2023-05-03T09:30:38",
          "2023-05-03T09:50:13",
          "2023-05-03T09:57:07",
          "2023-05-03T10:05:37",
          "2023-05-03T10:19:19",
          "2023-05-03T10:34:02",
          "2023-05-03T11:02:33",
          "2023-05-03T11:29:25",
          "2023-05-03T11:48:50"
         ],
         "hovertemplate": "id=59<br>start=%{base}<br>finish=%{x}<br>machine=%{y}<extra></extra>",
         "legendgroup": "59",
         "marker": {
          "color": "#19d3f3",
          "pattern": {
           "shape": ""
          }
         },
         "name": "59",
         "offsetgroup": "59",
         "orientation": "h",
         "showlegend": true,
         "textposition": "auto",
         "type": "bar",
         "x": [
          750000,
          146000,
          283000,
          615000,
          993000,
          556000,
          401000,
          510000,
          0,
          332000,
          1711000,
          1612000,
          1165000,
          994000
         ],
         "xaxis": "x",
         "y": [
          "P01",
          "P02",
          "P021",
          "P03",
          "P041",
          "P04",
          "P05",
          "P06",
          "P07",
          "P08",
          "P09",
          "P10",
          "P11",
          "P12"
         ],
         "yaxis": "y"
        },
        {
         "alignmentgroup": "True",
         "base": [
          "2023-05-03T09:04:29",
          "2023-05-03T09:11:57",
          "2023-05-03T09:11:57",
          "2023-05-03T09:26:53",
          "2023-05-03T09:39:54",
          "2023-05-03T09:45:01",
          "2023-05-03T09:56:54",
          "2023-05-03T10:06:59",
          "2023-05-03T10:17:04",
          "2023-05-03T10:30:33",
          "2023-05-03T10:43:10"
         ],
         "hovertemplate": "id=60<br>start=%{base}<br>finish=%{x}<br>machine=%{y}<extra></extra>",
         "legendgroup": "60",
         "marker": {
          "color": "#FF6692",
          "pattern": {
           "shape": ""
          }
         },
         "name": "60",
         "offsetgroup": "60",
         "orientation": "h",
         "showlegend": true,
         "textposition": "auto",
         "type": "bar",
         "x": [
          448000,
          672000,
          299000,
          693000,
          756000,
          312000,
          605000,
          605000,
          809000,
          757000,
          974000
         ],
         "xaxis": "x",
         "y": [
          "P01",
          "P02",
          "P021",
          "P03",
          "P04",
          "P05",
          "P05",
          "P06",
          "P07",
          "P08",
          "P13"
         ],
         "yaxis": "y"
        },
        {
         "alignmentgroup": "True",
         "base": [
          "2023-05-03T09:11:57",
          "2023-05-03T09:24:20",
          "2023-05-03T09:24:20",
          "2023-05-03T09:38:26",
          "2023-05-03T09:48:23",
          "2023-05-03T09:52:30",
          "2023-05-03T10:21:09",
          "2023-05-03T10:26:49",
          "2023-05-03T10:36:04",
          "2023-05-03T11:02:33",
          "2023-05-03T11:35:50",
          "2023-05-03T13:00:00",
          "2023-05-03T13:18:48"
         ],
         "hovertemplate": "id=61<br>start=%{base}<br>finish=%{x}<br>machine=%{y}<extra></extra>",
         "legendgroup": "61",
         "marker": {
          "color": "#B6E880",
          "pattern": {
           "shape": ""
          }
         },
         "name": "61",
         "offsetgroup": "61",
         "orientation": "h",
         "showlegend": true,
         "textposition": "auto",
         "type": "bar",
         "x": [
          743000,
          130000,
          285000,
          597000,
          833000,
          574000,
          340000,
          555000,
          0,
          1997000,
          1635000,
          1128000,
          973000
         ],
         "xaxis": "x",
         "y": [
          "P01",
          "P02",
          "P021",
          "P03",
          "P041",
          "P04",
          "P05",
          "P06",
          "P07",
          "P09",
          "P10",
          "P11",
          "P12"
         ],
         "yaxis": "y"
        },
        {
         "alignmentgroup": "True",
         "base": [
          "2023-05-03T09:24:20",
          "2023-05-03T09:36:35",
          "2023-05-03T09:36:35",
          "2023-05-03T09:48:23",
          "2023-05-03T10:02:04",
          "2023-05-03T10:06:59",
          "2023-05-03T10:26:49",
          "2023-05-03T10:36:04",
          "2023-05-03T10:45:01",
          "2023-05-03T10:45:01",
          "2023-05-03T11:35:50",
          "2023-05-03T13:00:00",
          "2023-05-03T13:27:02",
          "2023-05-03T13:46:03"
         ],
         "hovertemplate": "id=62<br>start=%{base}<br>finish=%{x}<br>machine=%{y}<extra></extra>",
         "legendgroup": "62",
         "marker": {
          "color": "#FF97FF",
          "pattern": {
           "shape": ""
          }
         },
         "name": "62",
         "offsetgroup": "62",
         "orientation": "h",
         "showlegend": true,
         "textposition": "auto",
         "type": "bar",
         "x": [
          735000,
          140000,
          252000,
          570000,
          568000,
          850000,
          444000,
          537000,
          370000,
          0,
          1770000,
          1622000,
          1141000,
          990000
         ],
         "xaxis": "x",
         "y": [
          "P01",
          "P02",
          "P021",
          "P03",
          "P04",
          "P05",
          "P05",
          "P06",
          "P08",
          "P07",
          "P09",
          "P10",
          "P11",
          "P12"
         ],
         "yaxis": "y"
        },
        {
         "alignmentgroup": "True",
         "base": [
          "2023-05-03T09:36:35",
          "2023-05-03T09:44:36",
          "2023-05-03T09:44:36",
          "2023-05-03T09:59:36",
          "2023-05-03T10:12:28",
          "2023-05-03T10:12:28",
          "2023-05-03T10:34:13",
          "2023-05-03T10:45:01",
          "2023-05-03T10:55:36",
          "2023-05-03T11:11:03",
          "2023-05-03T11:20:49"
         ],
         "hovertemplate": "id=63<br>start=%{base}<br>finish=%{x}<br>machine=%{y}<extra></extra>",
         "legendgroup": "63",
         "marker": {
          "color": "#FECB52",
          "pattern": {
           "shape": ""
          }
         },
         "name": "63",
         "offsetgroup": "63",
         "orientation": "h",
         "showlegend": true,
         "textposition": "auto",
         "type": "bar",
         "x": [
          481000,
          308000,
          900000,
          772000,
          751000,
          623000,
          594000,
          635000,
          927000,
          586000,
          1068000
         ],
         "xaxis": "x",
         "y": [
          "P01",
          "P021",
          "P02",
          "P03",
          "P04",
          "P041",
          "P05",
          "P06",
          "P07",
          "P08",
          "P13"
         ],
         "yaxis": "y"
        },
        {
         "alignmentgroup": "True",
         "base": [
          "2023-05-03T09:44:36",
          "2023-05-03T09:59:36",
          "2023-05-03T09:59:36",
          "2023-05-03T10:14:30",
          "2023-05-03T10:24:18",
          "2023-05-03T10:24:59",
          "2023-05-03T10:44:07",
          "2023-05-03T10:55:36",
          "2023-05-03T11:11:03",
          "2023-05-03T11:20:49",
          "2023-05-03T11:38:37"
         ],
         "hovertemplate": "id=64<br>start=%{base}<br>finish=%{x}<br>machine=%{y}<extra></extra>",
         "legendgroup": "64",
         "marker": {
          "color": "#636efa",
          "pattern": {
           "shape": ""
          }
         },
         "name": "64",
         "offsetgroup": "64",
         "orientation": "h",
         "showlegend": true,
         "textposition": "auto",
         "type": "bar",
         "x": [
          636000,
          894000,
          404000,
          588000,
          673000,
          511000,
          542000,
          744000,
          0,
          849000,
          729000
         ],
         "xaxis": "x",
         "y": [
          "P01",
          "P02",
          "P021",
          "P03",
          "P041",
          "P04",
          "P05",
          "P06",
          "P07",
          "P08",
          "P13"
         ],
         "yaxis": "y"
        },
        {
         "alignmentgroup": "True",
         "base": [
          "2023-05-03T09:55:12",
          "2023-05-03T10:14:30",
          "2023-05-03T10:14:30",
          "2023-05-03T10:30:29",
          "2023-05-03T10:43:49",
          "2023-05-03T10:43:49",
          "2023-05-03T10:54:40",
          "2023-05-03T11:08:00",
          "2023-05-03T11:19:41",
          "2023-05-03T11:34:58",
          "2023-05-03T11:50:46"
         ],
         "hovertemplate": "id=65<br>start=%{base}<br>finish=%{x}<br>machine=%{y}<extra></extra>",
         "legendgroup": "65",
         "marker": {
          "color": "#EF553B",
          "pattern": {
           "shape": ""
          }
         },
         "name": "65",
         "offsetgroup": "65",
         "orientation": "h",
         "showlegend": true,
         "textposition": "auto",
         "type": "bar",
         "x": [
          518000,
          358000,
          959000,
          800000,
          644000,
          651000,
          630000,
          701000,
          813000,
          561000,
          976000
         ],
         "xaxis": "x",
         "y": [
          "P01",
          "P021",
          "P02",
          "P03",
          "P041",
          "P04",
          "P05",
          "P06",
          "P07",
          "P08",
          "P13"
         ],
         "yaxis": "y"
        },
        {
         "alignmentgroup": "True",
         "base": [
          "2023-05-03T10:03:50",
          "2023-05-03T10:30:29",
          "2023-05-03T10:30:29",
          "2023-05-03T10:43:49",
          "2023-05-03T10:54:40",
          "2023-05-03T10:54:40",
          "2023-05-03T11:07:28",
          "2023-05-03T11:19:41",
          "2023-05-03T11:33:14",
          "2023-05-03T11:47:40",
          "2023-05-03T13:00:00"
         ],
         "hovertemplate": "id=66<br>start=%{base}<br>finish=%{x}<br>machine=%{y}<extra></extra>",
         "legendgroup": "66",
         "marker": {
          "color": "#00cc96",
          "pattern": {
           "shape": ""
          }
         },
         "name": "66",
         "offsetgroup": "66",
         "orientation": "h",
         "showlegend": true,
         "textposition": "auto",
         "type": "bar",
         "x": [
          462000,
          673000,
          299000,
          623000,
          278000,
          768000,
          559000,
          509000,
          866000,
          726000,
          933000
         ],
         "xaxis": "x",
         "y": [
          "P01",
          "P02",
          "P021",
          "P03",
          "P041",
          "P04",
          "P05",
          "P06",
          "P07",
          "P08",
          "P13"
         ],
         "yaxis": "y"
        },
        {
         "alignmentgroup": "True",
         "base": [
          "2023-05-03T10:11:32",
          "2023-05-03T10:41:42",
          "2023-05-03T10:41:42",
          "2023-05-03T10:54:59",
          "2023-05-03T11:07:13",
          "2023-05-03T11:07:28",
          "2023-05-03T11:29:08",
          "2023-05-03T11:39:06",
          "2023-05-03T11:51:44",
          "2023-05-03T11:59:46",
          "2023-05-03T13:15:33"
         ],
         "hovertemplate": "id=67<br>start=%{base}<br>finish=%{x}<br>machine=%{y}<extra></extra>",
         "legendgroup": "67",
         "marker": {
          "color": "#ab63fa",
          "pattern": {
           "shape": ""
          }
         },
         "name": "67",
         "offsetgroup": "67",
         "orientation": "h",
         "showlegend": true,
         "textposition": "auto",
         "type": "bar",
         "x": [
          615000,
          461000,
          797000,
          734000,
          689000,
          487000,
          598000,
          758000,
          0,
          895000,
          752000
         ],
         "xaxis": "x",
         "y": [
          "P01",
          "P021",
          "P02",
          "P03",
          "P041",
          "P04",
          "P05",
          "P06",
          "P07",
          "P08",
          "P13"
         ],
         "yaxis": "y"
        },
        {
         "alignmentgroup": "True",
         "base": [
          "2023-05-03T10:21:47",
          "2023-05-03T10:54:59",
          "2023-05-03T10:54:59",
          "2023-05-03T11:07:13",
          "2023-05-03T11:18:17",
          "2023-05-03T11:18:17",
          "2023-05-03T11:39:06",
          "2023-05-03T11:51:44",
          "2023-05-03T13:00:00",
          "2023-05-03T13:00:00",
          "2023-05-03T13:28:05"
         ],
         "hovertemplate": "id=68<br>start=%{base}<br>finish=%{x}<br>machine=%{y}<extra></extra>",
         "legendgroup": "68",
         "marker": {
          "color": "#FFA15A",
          "pattern": {
           "shape": ""
          }
         },
         "name": "68",
         "offsetgroup": "68",
         "orientation": "h",
         "showlegend": true,
         "textposition": "auto",
         "type": "bar",
         "x": [
          568000,
          394000,
          681000,
          664000,
          651000,
          557000,
          650000,
          665000,
          877000,
          0,
          684000
         ],
         "xaxis": "x",
         "y": [
          "P01",
          "P021",
          "P02",
          "P03",
          "P05",
          "P04",
          "P05",
          "P06",
          "P08",
          "P07",
          "P13"
         ],
         "yaxis": "y"
        },
        {
         "alignmentgroup": "True",
         "base": [
          "2023-05-03T10:31:15",
          "2023-05-03T11:06:20",
          "2023-05-03T11:06:20",
          "2023-05-03T11:18:17",
          "2023-05-03T11:27:04",
          "2023-05-03T11:27:34",
          "2023-05-03T13:00:00",
          "2023-05-03T13:06:11",
          "2023-05-03T13:14:55",
          "2023-05-03T13:14:55",
          "2023-05-03T13:22:16",
          "2023-05-03T13:51:08",
          "2023-05-03T14:17:41",
          "2023-05-03T14:35:44"
         ],
         "hovertemplate": "id=69<br>start=%{base}<br>finish=%{x}<br>machine=%{y}<extra></extra>",
         "legendgroup": "69",
         "marker": {
          "color": "#19d3f3",
          "pattern": {
           "shape": ""
          }
         },
         "name": "69",
         "offsetgroup": "69",
         "orientation": "h",
         "showlegend": true,
         "textposition": "auto",
         "type": "bar",
         "x": [
          737000,
          285000,
          132000,
          527000,
          897000,
          558000,
          371000,
          524000,
          441000,
          0,
          1732000,
          1593000,
          1083000,
          989000
         ],
         "xaxis": "x",
         "y": [
          "P01",
          "P021",
          "P02",
          "P03",
          "P041",
          "P04",
          "P05",
          "P06",
          "P08",
          "P07",
          "P09",
          "P10",
          "P11",
          "P12"
         ],
         "yaxis": "y"
        },
        {
         "alignmentgroup": "True",
         "base": [
          "2023-05-03T10:43:32",
          "2023-05-03T11:11:05",
          "2023-05-03T11:11:05",
          "2023-05-03T11:27:04",
          "2023-05-03T11:36:52",
          "2023-05-03T11:49:56",
          "2023-05-03T13:16:06",
          "2023-05-03T13:27:44",
          "2023-05-03T13:41:09",
          "2023-05-03T13:51:46",
          "2023-05-03T13:59:05",
          "2023-05-03T14:25:57",
          "2023-05-03T14:53:57",
          "2023-05-03T15:11:34"
         ],
         "hovertemplate": "id=70<br>start=%{base}<br>finish=%{x}<br>machine=%{y}<extra></extra>",
         "legendgroup": "70",
         "marker": {
          "color": "#FF6692",
          "pattern": {
           "shape": ""
          }
         },
         "name": "70",
         "offsetgroup": "70",
         "orientation": "h",
         "showlegend": true,
         "textposition": "auto",
         "type": "bar",
         "x": [
          750000,
          123000,
          253000,
          579000,
          570000,
          865000,
          349000,
          567000,
          0,
          439000,
          1612000,
          1680000,
          1057000,
          982000
         ],
         "xaxis": "x",
         "y": [
          "P01",
          "P02",
          "P021",
          "P03",
          "P04",
          "P05",
          "P05",
          "P06",
          "P07",
          "P08",
          "P09",
          "P10",
          "P11",
          "P12"
         ],
         "yaxis": "y"
        },
        {
         "alignmentgroup": "True",
         "base": [
          "2023-05-03T10:56:02",
          "2023-05-03T11:15:18",
          "2023-05-03T11:15:18",
          "2023-05-03T11:36:43",
          "2023-05-03T11:48:37",
          "2023-05-03T11:48:37",
          "2023-05-03T13:06:11",
          "2023-05-03T13:16:06",
          "2023-05-03T13:27:44",
          "2023-05-03T13:41:09",
          "2023-05-03T13:51:46"
         ],
         "hovertemplate": "id=71<br>start=%{base}<br>finish=%{x}<br>machine=%{y}<extra></extra>",
         "legendgroup": "71",
         "marker": {
          "color": "#B6E880",
          "pattern": {
           "shape": ""
          }
         },
         "name": "71",
         "offsetgroup": "71",
         "orientation": "h",
         "showlegend": true,
         "textposition": "auto",
         "type": "bar",
         "x": [
          491000,
          932000,
          359000,
          714000,
          557000,
          632000,
          595000,
          698000,
          805000,
          637000,
          977000
         ],
         "xaxis": "x",
         "y": [
          "P01",
          "P02",
          "P021",
          "P03",
          "P041",
          "P04",
          "P05",
          "P06",
          "P07",
          "P08",
          "P13"
         ],
         "yaxis": "y"
        },
        {
         "alignmentgroup": "True",
         "base": [
          "2023-05-03T11:04:13",
          "2023-05-03T11:30:50",
          "2023-05-03T11:30:50",
          "2023-05-03T11:48:37",
          "2023-05-03T11:59:09",
          "2023-05-03T11:59:09",
          "2023-05-03T13:30:17",
          "2023-05-03T13:38:06",
          "2023-05-03T13:47:20",
          "2023-05-03T13:59:05",
          "2023-05-03T14:25:57",
          "2023-05-03T14:55:11",
          "2023-05-03T15:22:12",
          "2023-05-03T15:41:20"
         ],
         "hovertemplate": "id=72<br>start=%{base}<br>finish=%{x}<br>machine=%{y}<extra></extra>",
         "legendgroup": "72",
         "marker": {
          "color": "#FF97FF",
          "pattern": {
           "shape": ""
          }
         },
         "name": "72",
         "offsetgroup": "72",
         "orientation": "h",
         "showlegend": true,
         "textposition": "auto",
         "type": "bar",
         "x": [
          735000,
          124000,
          245000,
          590000,
          884000,
          652000,
          469000,
          554000,
          0,
          404000,
          1754000,
          1621000,
          1148000,
          947000
         ],
         "xaxis": "x",
         "y": [
          "P01",
          "P02",
          "P021",
          "P03",
          "P041",
          "P04",
          "P05",
          "P06",
          "P07",
          "P08",
          "P09",
          "P10",
          "P11",
          "P12"
         ],
         "yaxis": "y"
        },
        {
         "alignmentgroup": "True",
         "base": [
          "2023-05-03T11:16:28",
          "2023-05-03T11:34:55",
          "2023-05-03T11:34:55",
          "2023-05-03T11:58:27",
          "2023-05-03T13:00:00",
          "2023-05-03T13:21:55",
          "2023-05-03T13:47:17",
          "2023-05-03T13:59:21",
          "2023-05-03T14:11:33",
          "2023-05-03T14:26:56",
          "2023-05-03T15:03:35"
         ],
         "hovertemplate": "id=73<br>start=%{base}<br>finish=%{x}<br>machine=%{y}<extra></extra>",
         "legendgroup": "73",
         "marker": {
          "color": "#FECB52",
          "pattern": {
           "shape": ""
          }
         },
         "name": "73",
         "offsetgroup": "73",
         "orientation": "h",
         "showlegend": true,
         "textposition": "auto",
         "type": "bar",
         "x": [
          547000,
          289000,
          863000,
          650000,
          679000,
          502000,
          534000,
          732000,
          923000,
          701000,
          1002000
         ],
         "xaxis": "x",
         "y": [
          "P01",
          "P021",
          "P02",
          "P03",
          "P04",
          "P05",
          "P05",
          "P06",
          "P07",
          "P08",
          "P13"
         ],
         "yaxis": "y"
        },
        {
         "alignmentgroup": "True",
         "base": [
          "2023-05-03T11:25:35",
          "2023-05-03T11:49:18",
          "2023-05-03T11:49:18",
          "2023-05-03T13:00:00",
          "2023-05-03T13:10:49",
          "2023-05-03T13:11:19",
          "2023-05-03T13:38:06",
          "2023-05-03T13:47:20",
          "2023-05-03T13:59:21",
          "2023-05-03T14:05:49",
          "2023-05-03T14:21:02"
         ],
         "hovertemplate": "id=74<br>start=%{base}<br>finish=%{x}<br>machine=%{y}<extra></extra>",
         "legendgroup": "74",
         "marker": {
          "color": "#636efa",
          "pattern": {
           "shape": ""
          }
         },
         "name": "74",
         "offsetgroup": "74",
         "orientation": "h",
         "showlegend": true,
         "textposition": "auto",
         "type": "bar",
         "x": [
          589000,
          446000,
          769000,
          649000,
          637000,
          684000,
          551000,
          721000,
          0,
          913000,
          734000
         ],
         "xaxis": "x",
         "y": [
          "P01",
          "P021",
          "P02",
          "P03",
          "P041",
          "P04",
          "P05",
          "P06",
          "P07",
          "P08",
          "P13"
         ],
         "yaxis": "y"
        },
        {
         "alignmentgroup": "True",
         "base": [
          "2023-05-03T11:35:24",
          "2023-05-03T13:00:00",
          "2023-05-03T13:00:00",
          "2023-05-03T13:15:03",
          "2023-05-03T13:25:11",
          "2023-05-03T13:25:11",
          "2023-05-03T13:56:11",
          "2023-05-03T14:11:33",
          "2023-05-03T14:26:56",
          "2023-05-03T14:38:23"
         ],
         "hovertemplate": "id=75<br>start=%{base}<br>finish=%{x}<br>machine=%{y}<extra></extra>",
         "legendgroup": "75",
         "marker": {
          "color": "#EF553B",
          "pattern": {
           "shape": ""
          }
         },
         "name": "75",
         "offsetgroup": "75",
         "orientation": "h",
         "showlegend": true,
         "textposition": "auto",
         "type": "bar",
         "x": [
          646000,
          903000,
          383000,
          608000,
          698000,
          592000,
          589000,
          724000,
          0,
          1512000
         ],
         "xaxis": "x",
         "y": [
          "P01",
          "P02",
          "P021",
          "P03",
          "P041",
          "P04",
          "P05",
          "P06",
          "P07",
          "P13"
         ],
         "yaxis": "y"
        },
        {
         "alignmentgroup": "True",
         "base": [
          "2023-05-03T11:46:10",
          "2023-05-03T13:15:03",
          "2023-05-03T13:15:03",
          "2023-05-03T13:28:52",
          "2023-05-03T13:38:44",
          "2023-05-03T13:38:44",
          "2023-05-03T14:06:00",
          "2023-05-03T14:23:37",
          "2023-05-03T14:36:33",
          "2023-05-03T14:38:37",
          "2023-05-03T15:20:17"
         ],
         "hovertemplate": "id=76<br>start=%{base}<br>finish=%{x}<br>machine=%{y}<extra></extra>",
         "legendgroup": "76",
         "marker": {
          "color": "#00cc96",
          "pattern": {
           "shape": ""
          }
         },
         "name": "76",
         "offsetgroup": "76",
         "orientation": "h",
         "showlegend": true,
         "textposition": "auto",
         "type": "bar",
         "x": [
          578000,
          365000,
          829000,
          592000,
          645000,
          605000,
          632000,
          776000,
          0,
          864000,
          656000
         ],
         "xaxis": "x",
         "y": [
          "P01",
          "P021",
          "P02",
          "P03",
          "P041",
          "P04",
          "P05",
          "P06",
          "P07",
          "P08",
          "P13"
         ],
         "yaxis": "y"
        },
        {
         "alignmentgroup": "True",
         "base": [
          "2023-05-03T11:55:48",
          "2023-05-03T13:28:52",
          "2023-05-03T13:28:52",
          "2023-05-03T13:38:44",
          "2023-05-03T13:49:29",
          "2023-05-03T13:49:29",
          "2023-05-03T14:26:34",
          "2023-05-03T14:36:33",
          "2023-05-03T14:45:53",
          "2023-05-03T14:53:01",
          "2023-05-03T14:59:03",
          "2023-05-03T15:26:35",
          "2023-05-03T15:54:35",
          "2023-05-03T16:13:38"
         ],
         "hovertemplate": "id=77<br>start=%{base}<br>finish=%{x}<br>machine=%{y}<extra></extra>",
         "legendgroup": "77",
         "marker": {
          "color": "#ab63fa",
          "pattern": {
           "shape": ""
          }
         },
         "name": "77",
         "offsetgroup": "77",
         "orientation": "h",
         "showlegend": true,
         "textposition": "auto",
         "type": "bar",
         "x": [
          766000,
          266000,
          146000,
          561000,
          618000,
          1058000,
          343000,
          560000,
          0,
          362000,
          1652000,
          1680000,
          1143000,
          979000
         ],
         "xaxis": "x",
         "y": [
          "P01",
          "P021",
          "P02",
          "P03",
          "P04",
          "P041",
          "P05",
          "P06",
          "P07",
          "P08",
          "P09",
          "P10",
          "P11",
          "P12"
         ],
         "yaxis": "y"
        },
        {
         "alignmentgroup": "True",
         "base": [
          "2023-05-03T13:00:00",
          "2023-05-03T13:33:18",
          "2023-05-03T13:33:18",
          "2023-05-03T13:48:05",
          "2023-05-03T13:59:47",
          "2023-05-03T14:16:32",
          "2023-05-03T14:41:53",
          "2023-05-03T14:57:41",
          "2023-05-03T15:12:33",
          "2023-05-03T15:22:49",
          "2023-05-03T15:49:31"
         ],
         "hovertemplate": "id=78<br>start=%{base}<br>finish=%{x}<br>machine=%{y}<extra></extra>",
         "legendgroup": "78",
         "marker": {
          "color": "#FFA15A",
          "pattern": {
           "shape": ""
          }
         },
         "name": "78",
         "offsetgroup": "78",
         "orientation": "h",
         "showlegend": true,
         "textposition": "auto",
         "type": "bar",
         "x": [
          643000,
          833000,
          264000,
          586000,
          739000,
          602000,
          632000,
          724000,
          0,
          828000,
          739000
         ],
         "xaxis": "x",
         "y": [
          "P01",
          "P02",
          "P021",
          "P03",
          "P04",
          "P05",
          "P05",
          "P06",
          "P07",
          "P08",
          "P13"
         ],
         "yaxis": "y"
        },
        {
         "alignmentgroup": "True",
         "base": [
          "2023-05-03T13:10:43",
          "2023-05-03T13:47:11",
          "2023-05-03T13:47:11",
          "2023-05-03T14:01:44",
          "2023-05-03T14:14:02",
          "2023-05-03T14:14:02",
          "2023-05-03T14:32:17",
          "2023-05-03T14:45:53",
          "2023-05-03T14:57:41",
          "2023-05-03T15:12:33",
          "2023-05-03T15:31:13"
         ],
         "hovertemplate": "id=79<br>start=%{base}<br>finish=%{x}<br>machine=%{y}<extra></extra>",
         "legendgroup": "79",
         "marker": {
          "color": "#19d3f3",
          "pattern": {
           "shape": ""
          }
         },
         "name": "79",
         "offsetgroup": "79",
         "orientation": "h",
         "showlegend": true,
         "textposition": "auto",
         "type": "bar",
         "x": [
          533000,
          293000,
          873000,
          738000,
          610000,
          714000,
          576000,
          708000,
          892000,
          616000,
          1098000
         ],
         "xaxis": "x",
         "y": [
          "P01",
          "P021",
          "P02",
          "P03",
          "P041",
          "P04",
          "P05",
          "P06",
          "P07",
          "P08",
          "P13"
         ],
         "yaxis": "y"
        },
        {
         "alignmentgroup": "True",
         "base": [
          "2023-05-03T13:19:36",
          "2023-05-03T14:01:44",
          "2023-05-03T14:01:44",
          "2023-05-03T14:16:20",
          "2023-05-03T14:25:56",
          "2023-05-03T14:25:56",
          "2023-05-03T15:06:51",
          "2023-05-03T15:17:16",
          "2023-05-03T15:29:43",
          "2023-05-03T15:36:37",
          "2023-05-03T16:01:50"
         ],
         "hovertemplate": "id=80<br>start=%{base}<br>finish=%{x}<br>machine=%{y}<extra></extra>",
         "legendgroup": "80",
         "marker": {
          "color": "#FF6692",
          "pattern": {
           "shape": ""
          }
         },
         "name": "80",
         "offsetgroup": "80",
         "orientation": "h",
         "showlegend": true,
         "textposition": "auto",
         "type": "bar",
         "x": [
          664000,
          876000,
          444000,
          505000,
          642000,
          624000,
          625000,
          747000,
          0,
          861000,
          666000
         ],
         "xaxis": "x",
         "y": [
          "P01",
          "P02",
          "P021",
          "P03",
          "P04",
          "P041",
          "P05",
          "P06",
          "P07",
          "P08",
          "P13"
         ],
         "yaxis": "y"
        },
        {
         "alignmentgroup": "True",
         "base": [
          "2023-05-03T13:30:40",
          "2023-05-03T14:16:20",
          "2023-05-03T14:16:20",
          "2023-05-03T14:24:45",
          "2023-05-03T14:36:38",
          "2023-05-03T14:52:25",
          "2023-05-03T15:34:40",
          "2023-05-03T15:40:30",
          "2023-05-03T15:48:54",
          "2023-05-03T15:58:29",
          "2023-05-03T16:32:18",
          "2023-05-03T16:59:18",
          "2023-05-03T17:18:51"
         ],
         "hovertemplate": "id=81<br>start=%{base}<br>finish=%{x}<br>machine=%{y}<extra></extra>",
         "legendgroup": "81",
         "marker": {
          "color": "#B6E880",
          "pattern": {
           "shape": ""
          }
         },
         "name": "81",
         "offsetgroup": "81",
         "orientation": "h",
         "showlegend": true,
         "textposition": "auto",
         "type": "bar",
         "x": [
          728000,
          290000,
          144000,
          591000,
          623000,
          866000,
          350000,
          504000,
          0,
          2029000,
          1620000,
          1173000,
          991000
         ],
         "xaxis": "x",
         "y": [
          "P01",
          "P021",
          "P02",
          "P03",
          "P04",
          "P05",
          "P05",
          "P06",
          "P07",
          "P09",
          "P10",
          "P11",
          "P12"
         ],
         "yaxis": "y"
        },
        {
         "alignmentgroup": "True",
         "base": [
          "2023-05-03T13:42:48",
          "2023-05-03T14:21:10",
          "2023-05-03T14:21:10",
          "2023-05-03T14:34:36",
          "2023-05-03T14:44:30",
          "2023-05-03T14:47:01",
          "2023-05-03T15:17:16",
          "2023-05-03T15:29:43",
          "2023-05-03T15:38:32",
          "2023-05-03T15:50:58",
          "2023-05-03T16:32:18",
          "2023-05-03T17:01:05",
          "2023-05-03T17:29:09",
          "2023-05-03T17:47:34"
         ],
         "hovertemplate": "id=82<br>start=%{base}<br>finish=%{x}<br>machine=%{y}<extra></extra>",
         "legendgroup": "82",
         "marker": {
          "color": "#FF97FF",
          "pattern": {
           "shape": ""
          }
         },
         "name": "82",
         "offsetgroup": "82",
         "orientation": "h",
         "showlegend": true,
         "textposition": "auto",
         "type": "bar",
         "x": [
          745000,
          261000,
          141000,
          594000,
          880000,
          488000,
          377000,
          529000,
          0,
          460000,
          1727000,
          1684000,
          1105000,
          965000
         ],
         "xaxis": "x",
         "y": [
          "P01",
          "P021",
          "P02",
          "P03",
          "P041",
          "P04",
          "P05",
          "P06",
          "P07",
          "P08",
          "P09",
          "P10",
          "P11",
          "P12"
         ],
         "yaxis": "y"
        },
        {
         "alignmentgroup": "True",
         "base": [
          "2023-05-03T13:55:13",
          "2023-05-03T14:25:31",
          "2023-05-03T14:25:31",
          "2023-05-03T14:44:30",
          "2023-05-03T14:59:10",
          "2023-05-03T14:59:10",
          "2023-05-03T15:40:30",
          "2023-05-03T15:49:37",
          "2023-05-03T16:01:27",
          "2023-05-03T16:16:43",
          "2023-05-03T16:25:34"
         ],
         "hovertemplate": "id=83<br>start=%{base}<br>finish=%{x}<br>machine=%{y}<extra></extra>",
         "legendgroup": "83",
         "marker": {
          "color": "#FECB52",
          "pattern": {
           "shape": ""
          }
         },
         "name": "83",
         "offsetgroup": "83",
         "orientation": "h",
         "showlegend": true,
         "textposition": "auto",
         "type": "bar",
         "x": [
          466000,
          905000,
          372000,
          663000,
          751000,
          449000,
          547000,
          710000,
          916000,
          531000,
          912000
         ],
         "xaxis": "x",
         "y": [
          "P01",
          "P02",
          "P021",
          "P03",
          "P04",
          "P041",
          "P05",
          "P06",
          "P07",
          "P08",
          "P13"
         ],
         "yaxis": "y"
        },
        {
         "alignmentgroup": "True",
         "base": [
          "2023-05-03T14:02:59",
          "2023-05-03T14:40:36",
          "2023-05-03T14:40:36",
          "2023-05-03T14:55:33",
          "2023-05-03T15:11:41",
          "2023-05-03T15:23:33",
          "2023-05-03T15:59:10",
          "2023-05-03T16:10:30",
          "2023-05-03T16:29:56",
          "2023-05-03T16:41:34",
          "2023-05-03T16:56:32"
         ],
         "hovertemplate": "id=84<br>start=%{base}<br>finish=%{x}<br>machine=%{y}<extra></extra>",
         "legendgroup": "84",
         "marker": {
          "color": "#636efa",
          "pattern": {
           "shape": ""
          }
         },
         "name": "84",
         "offsetgroup": "84",
         "orientation": "h",
         "showlegend": true,
         "textposition": "auto",
         "type": "bar",
         "x": [
          617000,
          467000,
          861000,
          544000,
          619000,
          667000,
          600000,
          711000,
          0,
          865000,
          687000
         ],
         "xaxis": "x",
         "y": [
          "P01",
          "P021",
          "P02",
          "P03",
          "P04",
          "P05",
          "P05",
          "P06",
          "P07",
          "P08",
          "P13"
         ],
         "yaxis": "y"
        },
        {
         "alignmentgroup": "True",
         "base": [
          "2023-05-03T14:13:16",
          "2023-05-03T14:54:57",
          "2023-05-03T14:54:57",
          "2023-05-03T15:06:33",
          "2023-05-03T15:16:47",
          "2023-05-03T15:22:00",
          "2023-05-03T15:49:37",
          "2023-05-03T16:01:27",
          "2023-05-03T16:16:43",
          "2023-05-03T16:29:56",
          "2023-05-03T16:41:34"
         ],
         "hovertemplate": "id=85<br>start=%{base}<br>finish=%{x}<br>machine=%{y}<extra></extra>",
         "legendgroup": "85",
         "marker": {
          "color": "#EF553B",
          "pattern": {
           "shape": ""
          }
         },
         "name": "85",
         "offsetgroup": "85",
         "orientation": "h",
         "showlegend": true,
         "textposition": "auto",
         "type": "bar",
         "x": [
          471000,
          264000,
          696000,
          614000,
          266000,
          679000,
          573000,
          543000,
          793000,
          698000,
          898000
         ],
         "xaxis": "x",
         "y": [
          "P01",
          "P021",
          "P02",
          "P03",
          "P041",
          "P04",
          "P05",
          "P06",
          "P07",
          "P08",
          "P13"
         ],
         "yaxis": "y"
        },
        {
         "alignmentgroup": "True",
         "base": [
          "2023-05-03T14:21:07",
          "2023-05-03T15:06:33",
          "2023-05-03T15:06:33",
          "2023-05-03T15:16:47",
          "2023-05-03T15:26:34",
          "2023-05-03T15:33:19",
          "2023-05-03T16:24:34",
          "2023-05-03T16:30:50",
          "2023-05-03T16:39:49",
          "2023-05-03T16:55:59",
          "2023-05-03T17:01:42",
          "2023-05-03T17:31:18",
          "2023-05-03T17:57:07"
         ],
         "hovertemplate": "id=86<br>start=%{base}<br>finish=%{x}<br>machine=%{y}<extra></extra>",
         "legendgroup": "86",
         "marker": {
          "color": "#00cc96",
          "pattern": {
           "shape": ""
          }
         },
         "name": "86",
         "offsetgroup": "86",
         "orientation": "h",
         "showlegend": true,
         "textposition": "auto",
         "type": "bar",
         "x": [
          721000,
          148000,
          257000,
          587000,
          976000,
          567000,
          376000,
          539000,
          0,
          343000,
          1776000,
          1549000,
          1092000
         ],
         "xaxis": "x",
         "y": [
          "P01",
          "P02",
          "P021",
          "P03",
          "P041",
          "P04",
          "P05",
          "P06",
          "P07",
          "P08",
          "P09",
          "P10",
          "P11"
         ],
         "yaxis": "y"
        },
        {
         "alignmentgroup": "True",
         "base": [
          "2023-05-03T14:33:08",
          "2023-05-03T15:10:50",
          "2023-05-03T15:10:50",
          "2023-05-03T15:26:34",
          "2023-05-03T15:42:46",
          "2023-05-03T16:09:10",
          "2023-05-03T16:56:54",
          "2023-05-03T17:08:46",
          "2023-05-03T17:17:23",
          "2023-05-03T17:23:11",
          "2023-05-03T17:59:53"
         ],
         "hovertemplate": "id=87<br>start=%{base}<br>finish=%{x}<br>machine=%{y}<extra></extra>",
         "legendgroup": "87",
         "marker": {
          "color": "#ab63fa",
          "pattern": {
           "shape": ""
          }
         },
         "name": "87",
         "offsetgroup": "87",
         "orientation": "h",
         "showlegend": true,
         "textposition": "auto",
         "type": "bar",
         "x": [
          776000,
          140000,
          239000,
          527000,
          689000,
          924000,
          339000,
          517000,
          0,
          344000,
          1738000
         ],
         "xaxis": "x",
         "y": [
          "P01",
          "P02",
          "P021",
          "P03",
          "P04",
          "P05",
          "P05",
          "P06",
          "P07",
          "P08",
          "P09"
         ],
         "yaxis": "y"
        },
        {
         "alignmentgroup": "True",
         "base": [
          "2023-05-03T14:46:04",
          "2023-05-03T15:14:49",
          "2023-05-03T15:14:49",
          "2023-05-03T15:35:21",
          "2023-05-03T15:44:44",
          "2023-05-03T15:54:15",
          "2023-05-03T16:30:50",
          "2023-05-03T16:39:49",
          "2023-05-03T16:48:17",
          "2023-05-03T17:01:42",
          "2023-05-03T17:31:18",
          "2023-05-03T17:59:53"
         ],
         "hovertemplate": "id=88<br>start=%{base}<br>finish=%{x}<br>machine=%{y}<extra></extra>",
         "legendgroup": "88",
         "marker": {
          "color": "#FFA15A",
          "pattern": {
           "shape": ""
          }
         },
         "name": "88",
         "offsetgroup": "88",
         "orientation": "h",
         "showlegend": true,
         "textposition": "auto",
         "type": "bar",
         "x": [
          744000,
          152000,
          277000,
          563000,
          897000,
          632000,
          309000,
          508000,
          0,
          398000,
          1715000,
          1681000
         ],
         "xaxis": "x",
         "y": [
          "P01",
          "P02",
          "P021",
          "P03",
          "P041",
          "P04",
          "P05",
          "P06",
          "P07",
          "P08",
          "P09",
          "P10"
         ],
         "yaxis": "y"
        },
        {
         "alignmentgroup": "True",
         "base": [
          "2023-05-03T14:58:28",
          "2023-05-03T15:19:26",
          "2023-05-03T15:19:26",
          "2023-05-03T15:44:44",
          "2023-05-03T16:04:47",
          "2023-05-03T16:04:47",
          "2023-05-03T16:47:12",
          "2023-05-03T16:56:54",
          "2023-05-03T17:08:46",
          "2023-05-03T17:08:46",
          "2023-05-03T17:23:11"
         ],
         "hovertemplate": "id=89<br>start=%{base}<br>finish=%{x}<br>machine=%{y}<extra></extra>",
         "legendgroup": "89",
         "marker": {
          "color": "#19d3f3",
          "pattern": {
           "shape": ""
          }
         },
         "name": "89",
         "offsetgroup": "89",
         "orientation": "h",
         "showlegend": true,
         "textposition": "auto",
         "type": "bar",
         "x": [
          649000,
          833000,
          493000,
          589000,
          612000,
          728000,
          582000,
          712000,
          865000,
          0,
          710000
         ],
         "xaxis": "x",
         "y": [
          "P01",
          "P02",
          "P021",
          "P03",
          "P04",
          "P041",
          "P05",
          "P06",
          "P08",
          "P07",
          "P13"
         ],
         "yaxis": "y"
        },
        {
         "alignmentgroup": "True",
         "base": [
          "2023-05-03T15:09:17",
          "2023-05-03T15:33:19",
          "2023-05-03T15:33:19",
          "2023-05-03T15:54:33",
          "2023-05-03T16:14:59",
          "2023-05-03T16:35:59",
          "2023-05-03T17:20:17",
          "2023-05-03T17:30:36",
          "2023-05-03T17:42:17",
          "2023-05-03T17:42:17",
          "2023-05-03T17:56:39"
         ],
         "hovertemplate": "id=90<br>start=%{base}<br>finish=%{x}<br>machine=%{y}<extra></extra>",
         "legendgroup": "90",
         "marker": {
          "color": "#FF6692",
          "pattern": {
           "shape": ""
          }
         },
         "name": "90",
         "offsetgroup": "90",
         "orientation": "h",
         "showlegend": true,
         "textposition": "auto",
         "type": "bar",
         "x": [
          595000,
          887000,
          379000,
          654000,
          635000,
          673000,
          619000,
          701000,
          0,
          862000,
          659000
         ],
         "xaxis": "x",
         "y": [
          "P01",
          "P02",
          "P021",
          "P03",
          "P04",
          "P05",
          "P05",
          "P06",
          "P07",
          "P08",
          "P13"
         ],
         "yaxis": "y"
        },
        {
         "alignmentgroup": "True",
         "base": [
          "2023-05-03T15:19:12",
          "2023-05-03T15:48:06",
          "2023-05-03T15:48:06",
          "2023-05-03T16:05:27",
          "2023-05-03T16:16:55",
          "2023-05-03T16:25:34",
          "2023-05-03T17:13:52",
          "2023-05-03T17:20:17",
          "2023-05-03T17:29:17",
          "2023-05-03T17:29:17"
         ],
         "hovertemplate": "id=91<br>start=%{base}<br>finish=%{x}<br>machine=%{y}<extra></extra>",
         "legendgroup": "91",
         "marker": {
          "color": "#B6E880",
          "pattern": {
           "shape": ""
          }
         },
         "name": "91",
         "offsetgroup": "91",
         "orientation": "h",
         "showlegend": true,
         "textposition": "auto",
         "type": "bar",
         "x": [
          748000,
          225000,
          123000,
          578000,
          838000,
          539000,
          385000,
          540000,
          414000,
          0
         ],
         "xaxis": "x",
         "y": [
          "P01",
          "P021",
          "P02",
          "P03",
          "P041",
          "P04",
          "P05",
          "P06",
          "P08",
          "P07"
         ],
         "yaxis": "y"
        },
        {
         "alignmentgroup": "True",
         "base": [
          "2023-05-03T15:31:40",
          "2023-05-03T15:51:51",
          "2023-05-03T15:51:51",
          "2023-05-03T16:15:05",
          "2023-05-03T16:34:33",
          "2023-05-03T17:02:33"
         ],
         "hovertemplate": "id=92<br>start=%{base}<br>finish=%{x}<br>machine=%{y}<extra></extra>",
         "legendgroup": "92",
         "marker": {
          "color": "#FF97FF",
          "pattern": {
           "shape": ""
          }
         },
         "name": "92",
         "offsetgroup": "92",
         "orientation": "h",
         "showlegend": true,
         "textposition": "auto",
         "type": "bar",
         "x": [
          610000,
          385000,
          832000,
          604000,
          759000,
          679000
         ],
         "xaxis": "x",
         "y": [
          "P01",
          "P021",
          "P02",
          "P03",
          "P04",
          "P05"
         ],
         "yaxis": "y"
        },
        {
         "alignmentgroup": "True",
         "base": [
          "2023-05-03T15:41:50",
          "2023-05-03T16:05:43",
          "2023-05-03T16:05:43",
          "2023-05-03T16:25:09",
          "2023-05-03T16:36:40",
          "2023-05-03T16:47:12",
          "2023-05-03T17:47:02",
          "2023-05-03T17:56:24"
         ],
         "hovertemplate": "id=93<br>start=%{base}<br>finish=%{x}<br>machine=%{y}<extra></extra>",
         "legendgroup": "93",
         "marker": {
          "color": "#FECB52",
          "pattern": {
           "shape": ""
          }
         },
         "name": "93",
         "offsetgroup": "93",
         "orientation": "h",
         "showlegend": true,
         "textposition": "auto",
         "type": "bar",
         "x": [
          520000,
          379000,
          903000,
          691000,
          666000,
          735000,
          562000,
          726000
         ],
         "xaxis": "x",
         "y": [
          "P01",
          "P021",
          "P02",
          "P03",
          "P041",
          "P04",
          "P05",
          "P06"
         ],
         "yaxis": "y"
        },
        {
         "alignmentgroup": "True",
         "base": [
          "2023-05-03T15:50:30",
          "2023-05-03T16:20:46",
          "2023-05-03T16:20:46",
          "2023-05-03T16:36:40",
          "2023-05-03T16:59:27",
          "2023-05-03T17:30:36"
         ],
         "hovertemplate": "id=94<br>start=%{base}<br>finish=%{x}<br>machine=%{y}<extra></extra>",
         "legendgroup": "94",
         "marker": {
          "color": "#636efa",
          "pattern": {
           "shape": ""
          }
         },
         "name": "94",
         "offsetgroup": "94",
         "orientation": "h",
         "showlegend": true,
         "textposition": "auto",
         "type": "bar",
         "x": [
          753000,
          140000,
          252000,
          622000,
          865000,
          986000
         ],
         "xaxis": "x",
         "y": [
          "P01",
          "P02",
          "P021",
          "P03",
          "P04",
          "P05"
         ],
         "yaxis": "y"
        },
        {
         "alignmentgroup": "True",
         "base": [
          "2023-05-03T16:03:03",
          "2023-05-03T16:24:58",
          "2023-05-03T16:24:58",
          "2023-05-03T16:47:02",
          "2023-05-03T16:59:27",
          "2023-05-03T17:13:52"
         ],
         "hovertemplate": "id=95<br>start=%{base}<br>finish=%{x}<br>machine=%{y}<extra></extra>",
         "legendgroup": "95",
         "marker": {
          "color": "#EF553B",
          "pattern": {
           "shape": ""
          }
         },
         "name": "95",
         "offsetgroup": "95",
         "orientation": "h",
         "showlegend": true,
         "textposition": "auto",
         "type": "bar",
         "x": [
          640000,
          903000,
          390000,
          595000,
          652000,
          501000
         ],
         "xaxis": "x",
         "y": [
          "P01",
          "P02",
          "P021",
          "P03",
          "P041",
          "P04"
         ],
         "yaxis": "y"
        },
        {
         "alignmentgroup": "True",
         "base": [
          "2023-05-03T16:13:43",
          "2023-05-03T16:40:01",
          "2023-05-03T16:40:01",
          "2023-05-03T16:56:57",
          "2023-05-03T17:22:13",
          "2023-05-03T17:56:24"
         ],
         "hovertemplate": "id=96<br>start=%{base}<br>finish=%{x}<br>machine=%{y}<extra></extra>",
         "legendgroup": "96",
         "marker": {
          "color": "#00cc96",
          "pattern": {
           "shape": ""
          }
         },
         "name": "96",
         "offsetgroup": "96",
         "orientation": "h",
         "showlegend": true,
         "textposition": "auto",
         "type": "bar",
         "x": [
          545000,
          855000,
          370000,
          766000,
          1489000,
          535000
         ],
         "xaxis": "x",
         "y": [
          "P01",
          "P02",
          "P021",
          "P03",
          "P04",
          "P05"
         ],
         "yaxis": "y"
        },
        {
         "alignmentgroup": "True",
         "base": [
          "2023-05-03T16:22:48",
          "2023-05-03T16:54:16",
          "2023-05-03T16:54:16",
          "2023-05-03T17:09:43",
          "2023-05-03T17:18:36",
          "2023-05-03T17:47:02"
         ],
         "hovertemplate": "id=97<br>start=%{base}<br>finish=%{x}<br>machine=%{y}<extra></extra>",
         "legendgroup": "97",
         "marker": {
          "color": "#ab63fa",
          "pattern": {
           "shape": ""
          }
         },
         "name": "97",
         "offsetgroup": "97",
         "orientation": "h",
         "showlegend": true,
         "textposition": "auto",
         "type": "bar",
         "x": [
          568000,
          473000,
          813000,
          533000,
          693000,
          652000
         ],
         "xaxis": "x",
         "y": [
          "P01",
          "P021",
          "P02",
          "P03",
          "P041",
          "P04"
         ],
         "yaxis": "y"
        },
        {
         "alignmentgroup": "True",
         "base": [
          "2023-05-03T16:32:16",
          "2023-05-03T17:07:49",
          "2023-05-03T17:07:49",
          "2023-05-03T17:18:36",
          "2023-05-03T17:57:54"
         ],
         "hovertemplate": "id=98<br>start=%{base}<br>finish=%{x}<br>machine=%{y}<extra></extra>",
         "legendgroup": "98",
         "marker": {
          "color": "#FFA15A",
          "pattern": {
           "shape": ""
          }
         },
         "name": "98",
         "offsetgroup": "98",
         "orientation": "h",
         "showlegend": true,
         "textposition": "auto",
         "type": "bar",
         "x": [
          756000,
          124000,
          256000,
          552000,
          653000
         ],
         "xaxis": "x",
         "y": [
          "P01",
          "P02",
          "P021",
          "P03",
          "P04"
         ],
         "yaxis": "y"
        },
        {
         "alignmentgroup": "True",
         "base": [
          "2023-05-03T16:44:52",
          "2023-05-03T17:12:05",
          "2023-05-03T17:12:05",
          "2023-05-03T17:27:48",
          "2023-05-03T17:47:02"
         ],
         "hovertemplate": "id=99<br>start=%{base}<br>finish=%{x}<br>machine=%{y}<extra></extra>",
         "legendgroup": "99",
         "marker": {
          "color": "#19d3f3",
          "pattern": {
           "shape": ""
          }
         },
         "name": "99",
         "offsetgroup": "99",
         "orientation": "h",
         "showlegend": true,
         "textposition": "auto",
         "type": "bar",
         "x": [
          738000,
          135000,
          259000,
          578000,
          960000
         ],
         "xaxis": "x",
         "y": [
          "P01",
          "P02",
          "P021",
          "P03",
          "P041"
         ],
         "yaxis": "y"
        },
        {
         "alignmentgroup": "True",
         "base": [
          "2023-05-03T16:57:10",
          "2023-05-03T17:16:24",
          "2023-05-03T17:16:24",
          "2023-05-03T17:37:26"
         ],
         "hovertemplate": "id=100<br>start=%{base}<br>finish=%{x}<br>machine=%{y}<extra></extra>",
         "legendgroup": "100",
         "marker": {
          "color": "#FF6692",
          "pattern": {
           "shape": ""
          }
         },
         "name": "100",
         "offsetgroup": "100",
         "orientation": "h",
         "showlegend": true,
         "textposition": "auto",
         "type": "bar",
         "x": [
          652000,
          466000,
          851000,
          521000
         ],
         "xaxis": "x",
         "y": [
          "P01",
          "P021",
          "P02",
          "P03"
         ],
         "yaxis": "y"
        },
        {
         "alignmentgroup": "True",
         "base": [
          "2023-05-03T17:08:02",
          "2023-05-03T17:30:35",
          "2023-05-03T17:30:35",
          "2023-05-03T17:46:07"
         ],
         "hovertemplate": "id=101<br>start=%{base}<br>finish=%{x}<br>machine=%{y}<extra></extra>",
         "legendgroup": "101",
         "marker": {
          "color": "#B6E880",
          "pattern": {
           "shape": ""
          }
         },
         "name": "101",
         "offsetgroup": "101",
         "orientation": "h",
         "showlegend": true,
         "textposition": "auto",
         "type": "bar",
         "x": [
          526000,
          912000,
          294000,
          829000
         ],
         "xaxis": "x",
         "y": [
          "P01",
          "P02",
          "P021",
          "P03"
         ],
         "yaxis": "y"
        },
        {
         "alignmentgroup": "True",
         "base": [
          "2023-05-03T17:16:48",
          "2023-05-03T17:45:47",
          "2023-05-03T17:45:47",
          "2023-05-03T17:59:56"
         ],
         "hovertemplate": "id=102<br>start=%{base}<br>finish=%{x}<br>machine=%{y}<extra></extra>",
         "legendgroup": "102",
         "marker": {
          "color": "#FF97FF",
          "pattern": {
           "shape": ""
          }
         },
         "name": "102",
         "offsetgroup": "102",
         "orientation": "h",
         "showlegend": true,
         "textposition": "auto",
         "type": "bar",
         "x": [
          770000,
          130000,
          265000,
          613000
         ],
         "xaxis": "x",
         "y": [
          "P01",
          "P02",
          "P021",
          "P03"
         ],
         "yaxis": "y"
        },
        {
         "alignmentgroup": "True",
         "base": [
          "2023-05-03T17:29:38",
          "2023-05-03T17:50:12",
          "2023-05-03T17:50:12"
         ],
         "hovertemplate": "id=103<br>start=%{base}<br>finish=%{x}<br>machine=%{y}<extra></extra>",
         "legendgroup": "103",
         "marker": {
          "color": "#FECB52",
          "pattern": {
           "shape": ""
          }
         },
         "name": "103",
         "offsetgroup": "103",
         "orientation": "h",
         "showlegend": true,
         "textposition": "auto",
         "type": "bar",
         "x": [
          727000,
          250000,
          127000
         ],
         "xaxis": "x",
         "y": [
          "P01",
          "P021",
          "P02"
         ],
         "yaxis": "y"
        },
        {
         "alignmentgroup": "True",
         "base": [
          "2023-05-03T17:41:45",
          "2023-05-03T17:54:22",
          "2023-05-03T17:54:22"
         ],
         "hovertemplate": "id=104<br>start=%{base}<br>finish=%{x}<br>machine=%{y}<extra></extra>",
         "legendgroup": "104",
         "marker": {
          "color": "#636efa",
          "pattern": {
           "shape": ""
          }
         },
         "name": "104",
         "offsetgroup": "104",
         "orientation": "h",
         "showlegend": true,
         "textposition": "auto",
         "type": "bar",
         "x": [
          689000,
          335000,
          913000
         ],
         "xaxis": "x",
         "y": [
          "P01",
          "P021",
          "P02"
         ],
         "yaxis": "y"
        },
        {
         "alignmentgroup": "True",
         "base": [
          "2023-05-03T17:53:14"
         ],
         "hovertemplate": "id=105<br>start=%{base}<br>finish=%{x}<br>machine=%{y}<extra></extra>",
         "legendgroup": "105",
         "marker": {
          "color": "#EF553B",
          "pattern": {
           "shape": ""
          }
         },
         "name": "105",
         "offsetgroup": "105",
         "orientation": "h",
         "showlegend": true,
         "textposition": "auto",
         "type": "bar",
         "x": [
          605000
         ],
         "xaxis": "x",
         "y": [
          "P01"
         ],
         "yaxis": "y"
        }
       ],
       "layout": {
        "bargap": 0.2,
        "barmode": "overlay",
        "legend": {
         "title": {
          "text": "id"
         },
         "tracegroupgap": 0
        },
        "template": {
         "data": {
          "bar": [
           {
            "error_x": {
             "color": "#2a3f5f"
            },
            "error_y": {
             "color": "#2a3f5f"
            },
            "marker": {
             "line": {
              "color": "#E5ECF6",
              "width": 0.5
             },
             "pattern": {
              "fillmode": "overlay",
              "size": 10,
              "solidity": 0.2
             }
            },
            "type": "bar"
           }
          ],
          "barpolar": [
           {
            "marker": {
             "line": {
              "color": "#E5ECF6",
              "width": 0.5
             },
             "pattern": {
              "fillmode": "overlay",
              "size": 10,
              "solidity": 0.2
             }
            },
            "type": "barpolar"
           }
          ],
          "carpet": [
           {
            "aaxis": {
             "endlinecolor": "#2a3f5f",
             "gridcolor": "white",
             "linecolor": "white",
             "minorgridcolor": "white",
             "startlinecolor": "#2a3f5f"
            },
            "baxis": {
             "endlinecolor": "#2a3f5f",
             "gridcolor": "white",
             "linecolor": "white",
             "minorgridcolor": "white",
             "startlinecolor": "#2a3f5f"
            },
            "type": "carpet"
           }
          ],
          "choropleth": [
           {
            "colorbar": {
             "outlinewidth": 0,
             "ticks": ""
            },
            "type": "choropleth"
           }
          ],
          "contour": [
           {
            "colorbar": {
             "outlinewidth": 0,
             "ticks": ""
            },
            "colorscale": [
             [
              0,
              "#0d0887"
             ],
             [
              0.1111111111111111,
              "#46039f"
             ],
             [
              0.2222222222222222,
              "#7201a8"
             ],
             [
              0.3333333333333333,
              "#9c179e"
             ],
             [
              0.4444444444444444,
              "#bd3786"
             ],
             [
              0.5555555555555556,
              "#d8576b"
             ],
             [
              0.6666666666666666,
              "#ed7953"
             ],
             [
              0.7777777777777778,
              "#fb9f3a"
             ],
             [
              0.8888888888888888,
              "#fdca26"
             ],
             [
              1,
              "#f0f921"
             ]
            ],
            "type": "contour"
           }
          ],
          "contourcarpet": [
           {
            "colorbar": {
             "outlinewidth": 0,
             "ticks": ""
            },
            "type": "contourcarpet"
           }
          ],
          "heatmap": [
           {
            "colorbar": {
             "outlinewidth": 0,
             "ticks": ""
            },
            "colorscale": [
             [
              0,
              "#0d0887"
             ],
             [
              0.1111111111111111,
              "#46039f"
             ],
             [
              0.2222222222222222,
              "#7201a8"
             ],
             [
              0.3333333333333333,
              "#9c179e"
             ],
             [
              0.4444444444444444,
              "#bd3786"
             ],
             [
              0.5555555555555556,
              "#d8576b"
             ],
             [
              0.6666666666666666,
              "#ed7953"
             ],
             [
              0.7777777777777778,
              "#fb9f3a"
             ],
             [
              0.8888888888888888,
              "#fdca26"
             ],
             [
              1,
              "#f0f921"
             ]
            ],
            "type": "heatmap"
           }
          ],
          "heatmapgl": [
           {
            "colorbar": {
             "outlinewidth": 0,
             "ticks": ""
            },
            "colorscale": [
             [
              0,
              "#0d0887"
             ],
             [
              0.1111111111111111,
              "#46039f"
             ],
             [
              0.2222222222222222,
              "#7201a8"
             ],
             [
              0.3333333333333333,
              "#9c179e"
             ],
             [
              0.4444444444444444,
              "#bd3786"
             ],
             [
              0.5555555555555556,
              "#d8576b"
             ],
             [
              0.6666666666666666,
              "#ed7953"
             ],
             [
              0.7777777777777778,
              "#fb9f3a"
             ],
             [
              0.8888888888888888,
              "#fdca26"
             ],
             [
              1,
              "#f0f921"
             ]
            ],
            "type": "heatmapgl"
           }
          ],
          "histogram": [
           {
            "marker": {
             "pattern": {
              "fillmode": "overlay",
              "size": 10,
              "solidity": 0.2
             }
            },
            "type": "histogram"
           }
          ],
          "histogram2d": [
           {
            "colorbar": {
             "outlinewidth": 0,
             "ticks": ""
            },
            "colorscale": [
             [
              0,
              "#0d0887"
             ],
             [
              0.1111111111111111,
              "#46039f"
             ],
             [
              0.2222222222222222,
              "#7201a8"
             ],
             [
              0.3333333333333333,
              "#9c179e"
             ],
             [
              0.4444444444444444,
              "#bd3786"
             ],
             [
              0.5555555555555556,
              "#d8576b"
             ],
             [
              0.6666666666666666,
              "#ed7953"
             ],
             [
              0.7777777777777778,
              "#fb9f3a"
             ],
             [
              0.8888888888888888,
              "#fdca26"
             ],
             [
              1,
              "#f0f921"
             ]
            ],
            "type": "histogram2d"
           }
          ],
          "histogram2dcontour": [
           {
            "colorbar": {
             "outlinewidth": 0,
             "ticks": ""
            },
            "colorscale": [
             [
              0,
              "#0d0887"
             ],
             [
              0.1111111111111111,
              "#46039f"
             ],
             [
              0.2222222222222222,
              "#7201a8"
             ],
             [
              0.3333333333333333,
              "#9c179e"
             ],
             [
              0.4444444444444444,
              "#bd3786"
             ],
             [
              0.5555555555555556,
              "#d8576b"
             ],
             [
              0.6666666666666666,
              "#ed7953"
             ],
             [
              0.7777777777777778,
              "#fb9f3a"
             ],
             [
              0.8888888888888888,
              "#fdca26"
             ],
             [
              1,
              "#f0f921"
             ]
            ],
            "type": "histogram2dcontour"
           }
          ],
          "mesh3d": [
           {
            "colorbar": {
             "outlinewidth": 0,
             "ticks": ""
            },
            "type": "mesh3d"
           }
          ],
          "parcoords": [
           {
            "line": {
             "colorbar": {
              "outlinewidth": 0,
              "ticks": ""
             }
            },
            "type": "parcoords"
           }
          ],
          "pie": [
           {
            "automargin": true,
            "type": "pie"
           }
          ],
          "scatter": [
           {
            "fillpattern": {
             "fillmode": "overlay",
             "size": 10,
             "solidity": 0.2
            },
            "type": "scatter"
           }
          ],
          "scatter3d": [
           {
            "line": {
             "colorbar": {
              "outlinewidth": 0,
              "ticks": ""
             }
            },
            "marker": {
             "colorbar": {
              "outlinewidth": 0,
              "ticks": ""
             }
            },
            "type": "scatter3d"
           }
          ],
          "scattercarpet": [
           {
            "marker": {
             "colorbar": {
              "outlinewidth": 0,
              "ticks": ""
             }
            },
            "type": "scattercarpet"
           }
          ],
          "scattergeo": [
           {
            "marker": {
             "colorbar": {
              "outlinewidth": 0,
              "ticks": ""
             }
            },
            "type": "scattergeo"
           }
          ],
          "scattergl": [
           {
            "marker": {
             "colorbar": {
              "outlinewidth": 0,
              "ticks": ""
             }
            },
            "type": "scattergl"
           }
          ],
          "scattermapbox": [
           {
            "marker": {
             "colorbar": {
              "outlinewidth": 0,
              "ticks": ""
             }
            },
            "type": "scattermapbox"
           }
          ],
          "scatterpolar": [
           {
            "marker": {
             "colorbar": {
              "outlinewidth": 0,
              "ticks": ""
             }
            },
            "type": "scatterpolar"
           }
          ],
          "scatterpolargl": [
           {
            "marker": {
             "colorbar": {
              "outlinewidth": 0,
              "ticks": ""
             }
            },
            "type": "scatterpolargl"
           }
          ],
          "scatterternary": [
           {
            "marker": {
             "colorbar": {
              "outlinewidth": 0,
              "ticks": ""
             }
            },
            "type": "scatterternary"
           }
          ],
          "surface": [
           {
            "colorbar": {
             "outlinewidth": 0,
             "ticks": ""
            },
            "colorscale": [
             [
              0,
              "#0d0887"
             ],
             [
              0.1111111111111111,
              "#46039f"
             ],
             [
              0.2222222222222222,
              "#7201a8"
             ],
             [
              0.3333333333333333,
              "#9c179e"
             ],
             [
              0.4444444444444444,
              "#bd3786"
             ],
             [
              0.5555555555555556,
              "#d8576b"
             ],
             [
              0.6666666666666666,
              "#ed7953"
             ],
             [
              0.7777777777777778,
              "#fb9f3a"
             ],
             [
              0.8888888888888888,
              "#fdca26"
             ],
             [
              1,
              "#f0f921"
             ]
            ],
            "type": "surface"
           }
          ],
          "table": [
           {
            "cells": {
             "fill": {
              "color": "#EBF0F8"
             },
             "line": {
              "color": "white"
             }
            },
            "header": {
             "fill": {
              "color": "#C8D4E3"
             },
             "line": {
              "color": "white"
             }
            },
            "type": "table"
           }
          ]
         },
         "layout": {
          "annotationdefaults": {
           "arrowcolor": "#2a3f5f",
           "arrowhead": 0,
           "arrowwidth": 1
          },
          "autotypenumbers": "strict",
          "coloraxis": {
           "colorbar": {
            "outlinewidth": 0,
            "ticks": ""
           }
          },
          "colorscale": {
           "diverging": [
            [
             0,
             "#8e0152"
            ],
            [
             0.1,
             "#c51b7d"
            ],
            [
             0.2,
             "#de77ae"
            ],
            [
             0.3,
             "#f1b6da"
            ],
            [
             0.4,
             "#fde0ef"
            ],
            [
             0.5,
             "#f7f7f7"
            ],
            [
             0.6,
             "#e6f5d0"
            ],
            [
             0.7,
             "#b8e186"
            ],
            [
             0.8,
             "#7fbc41"
            ],
            [
             0.9,
             "#4d9221"
            ],
            [
             1,
             "#276419"
            ]
           ],
           "sequential": [
            [
             0,
             "#0d0887"
            ],
            [
             0.1111111111111111,
             "#46039f"
            ],
            [
             0.2222222222222222,
             "#7201a8"
            ],
            [
             0.3333333333333333,
             "#9c179e"
            ],
            [
             0.4444444444444444,
             "#bd3786"
            ],
            [
             0.5555555555555556,
             "#d8576b"
            ],
            [
             0.6666666666666666,
             "#ed7953"
            ],
            [
             0.7777777777777778,
             "#fb9f3a"
            ],
            [
             0.8888888888888888,
             "#fdca26"
            ],
            [
             1,
             "#f0f921"
            ]
           ],
           "sequentialminus": [
            [
             0,
             "#0d0887"
            ],
            [
             0.1111111111111111,
             "#46039f"
            ],
            [
             0.2222222222222222,
             "#7201a8"
            ],
            [
             0.3333333333333333,
             "#9c179e"
            ],
            [
             0.4444444444444444,
             "#bd3786"
            ],
            [
             0.5555555555555556,
             "#d8576b"
            ],
            [
             0.6666666666666666,
             "#ed7953"
            ],
            [
             0.7777777777777778,
             "#fb9f3a"
            ],
            [
             0.8888888888888888,
             "#fdca26"
            ],
            [
             1,
             "#f0f921"
            ]
           ]
          },
          "colorway": [
           "#636efa",
           "#EF553B",
           "#00cc96",
           "#ab63fa",
           "#FFA15A",
           "#19d3f3",
           "#FF6692",
           "#B6E880",
           "#FF97FF",
           "#FECB52"
          ],
          "font": {
           "color": "#2a3f5f"
          },
          "geo": {
           "bgcolor": "white",
           "lakecolor": "white",
           "landcolor": "#E5ECF6",
           "showlakes": true,
           "showland": true,
           "subunitcolor": "white"
          },
          "hoverlabel": {
           "align": "left"
          },
          "hovermode": "closest",
          "mapbox": {
           "style": "light"
          },
          "paper_bgcolor": "white",
          "plot_bgcolor": "#E5ECF6",
          "polar": {
           "angularaxis": {
            "gridcolor": "white",
            "linecolor": "white",
            "ticks": ""
           },
           "bgcolor": "#E5ECF6",
           "radialaxis": {
            "gridcolor": "white",
            "linecolor": "white",
            "ticks": ""
           }
          },
          "scene": {
           "xaxis": {
            "backgroundcolor": "#E5ECF6",
            "gridcolor": "white",
            "gridwidth": 2,
            "linecolor": "white",
            "showbackground": true,
            "ticks": "",
            "zerolinecolor": "white"
           },
           "yaxis": {
            "backgroundcolor": "#E5ECF6",
            "gridcolor": "white",
            "gridwidth": 2,
            "linecolor": "white",
            "showbackground": true,
            "ticks": "",
            "zerolinecolor": "white"
           },
           "zaxis": {
            "backgroundcolor": "#E5ECF6",
            "gridcolor": "white",
            "gridwidth": 2,
            "linecolor": "white",
            "showbackground": true,
            "ticks": "",
            "zerolinecolor": "white"
           }
          },
          "shapedefaults": {
           "line": {
            "color": "#2a3f5f"
           }
          },
          "ternary": {
           "aaxis": {
            "gridcolor": "white",
            "linecolor": "white",
            "ticks": ""
           },
           "baxis": {
            "gridcolor": "white",
            "linecolor": "white",
            "ticks": ""
           },
           "bgcolor": "#E5ECF6",
           "caxis": {
            "gridcolor": "white",
            "linecolor": "white",
            "ticks": ""
           }
          },
          "title": {
           "x": 0.05
          },
          "xaxis": {
           "automargin": true,
           "gridcolor": "white",
           "linecolor": "white",
           "ticks": "",
           "title": {
            "standoff": 15
           },
           "zerolinecolor": "white",
           "zerolinewidth": 2
          },
          "yaxis": {
           "automargin": true,
           "gridcolor": "white",
           "linecolor": "white",
           "ticks": "",
           "title": {
            "standoff": 15
           },
           "zerolinecolor": "white",
           "zerolinewidth": 2
          }
         }
        },
        "title": {
         "text": "Gantt - Daily Production"
        },
        "xaxis": {
         "anchor": "y",
         "domain": [
          0,
          1
         ],
         "title": {
          "text": "Date"
         },
         "type": "date"
        },
        "yaxis": {
         "anchor": "x",
         "domain": [
          0,
          1
         ],
         "title": {
          "text": "Machine"
         }
        }
       }
      }
     },
     "metadata": {},
     "output_type": "display_data"
    }
   ],
   "source": [
    "import pandas as pd\n",
    "import plotly.express as px\n",
    "from dateutil import parser\n",
    "# Leitura do arquivo Excel\n",
    "file_path = \"C:/Users/djonq/Models/Official1/Results.xlsx\"\n",
    "dataframe = pd.read_excel(file_path)\n",
    "\n",
    "\n",
    "\n",
    "# Converter a coluna de strings para datetime\n",
    "dataframe[\"start\"] = dataframe[\"start\"].apply(parser.parse)\n",
    "dataframe[\"finish\"] = dataframe[\"finish\"].apply(parser.parse)\n",
    "dataframe[\"id\"] = dataframe[\"id\"].astype(str)\n",
    "dataframe = dataframe[dataframe['start'] < \"2023-05-04\"]\n",
    "# Ordenar pelo mais antigo para o mais novo nas colunas Data, Start Time e Finish Time\n",
    "dataframe = dataframe.sort_values(by=['start']).reset_index(drop=True)\n",
    "# Criando o gráfico de Gantt\n",
    "fig = px.timeline(\n",
    "    dataframe,\n",
    "    x_start=\"start\",\n",
    "    x_end=\"finish\",\n",
    "    y=\"machine\",\n",
    "    color=\"id\",\n",
    "    title=\"Gantt - Daily Production\"\n",
    ")\n",
    "\n",
    "# Ajustando o layout para melhor visualização\n",
    "fig.update_layout(\n",
    "    xaxis_title=\"Date\",\n",
    "    yaxis_title=\"Machine\",\n",
    "    bargap=0.2\n",
    ")\n",
    "\n",
    "# Exibindo o gráfico\n",
    "fig.show()\n"
   ]
  },
  {
   "cell_type": "code",
   "execution_count": 4,
   "metadata": {},
   "outputs": [
    {
     "name": "stderr",
     "output_type": "stream",
     "text": [
      "c:\\Github\\Luxury_Fashion_Optimization\\.env\\lib\\site-packages\\openpyxl\\styles\\stylesheet.py:237: UserWarning:\n",
      "\n",
      "Workbook contains no default style, apply openpyxl's default\n",
      "\n",
      "c:\\Github\\Luxury_Fashion_Optimization\\.env\\lib\\site-packages\\dateutil\\parser\\_parser.py:1207: UnknownTimezoneWarning:\n",
      "\n",
      "tzname CEST identified but not understood.  Pass `tzinfos` argument in order to correctly return a timezone-aware datetime.  In a future version, this will raise an exception.\n",
      "\n"
     ]
    },
    {
     "ename": "ValueError",
     "evalue": "Mime type rendering requires nbformat>=4.2.0 but it is not installed",
     "output_type": "error",
     "traceback": [
      "\u001b[1;31m---------------------------------------------------------------------------\u001b[0m",
      "\u001b[1;31mValueError\u001b[0m                                Traceback (most recent call last)",
      "Cell \u001b[1;32mIn[4], line 36\u001b[0m\n\u001b[0;32m     29\u001b[0m fig\u001b[38;5;241m.\u001b[39mupdate_layout(\n\u001b[0;32m     30\u001b[0m     xaxis_title\u001b[38;5;241m=\u001b[39m\u001b[38;5;124m\"\u001b[39m\u001b[38;5;124mDate\u001b[39m\u001b[38;5;124m\"\u001b[39m,\n\u001b[0;32m     31\u001b[0m     yaxis_title\u001b[38;5;241m=\u001b[39m\u001b[38;5;124m\"\u001b[39m\u001b[38;5;124mMachine\u001b[39m\u001b[38;5;124m\"\u001b[39m,\n\u001b[0;32m     32\u001b[0m     bargap\u001b[38;5;241m=\u001b[39m\u001b[38;5;241m0.2\u001b[39m\n\u001b[0;32m     33\u001b[0m )\n\u001b[0;32m     35\u001b[0m \u001b[38;5;66;03m# Exibindo o gráfico\u001b[39;00m\n\u001b[1;32m---> 36\u001b[0m \u001b[43mfig\u001b[49m\u001b[38;5;241;43m.\u001b[39;49m\u001b[43mshow\u001b[49m\u001b[43m(\u001b[49m\u001b[43m)\u001b[49m\n\u001b[0;32m     38\u001b[0m dataframe\u001b[38;5;241m.\u001b[39mto_excel(\u001b[38;5;124m\"\u001b[39m\u001b[38;5;124mResults/Teste001.xlsx\u001b[39m\u001b[38;5;124m\"\u001b[39m, index\u001b[38;5;241m=\u001b[39m\u001b[38;5;28;01mFalse\u001b[39;00m)\n",
      "File \u001b[1;32mc:\\Github\\Luxury_Fashion_Optimization\\.env\\lib\\site-packages\\plotly\\basedatatypes.py:3410\u001b[0m, in \u001b[0;36mBaseFigure.show\u001b[1;34m(self, *args, **kwargs)\u001b[0m\n\u001b[0;32m   3377\u001b[0m \u001b[38;5;250m\u001b[39m\u001b[38;5;124;03m\"\"\"\u001b[39;00m\n\u001b[0;32m   3378\u001b[0m \u001b[38;5;124;03mShow a figure using either the default renderer(s) or the renderer(s)\u001b[39;00m\n\u001b[0;32m   3379\u001b[0m \u001b[38;5;124;03mspecified by the renderer argument\u001b[39;00m\n\u001b[1;32m   (...)\u001b[0m\n\u001b[0;32m   3406\u001b[0m \u001b[38;5;124;03mNone\u001b[39;00m\n\u001b[0;32m   3407\u001b[0m \u001b[38;5;124;03m\"\"\"\u001b[39;00m\n\u001b[0;32m   3408\u001b[0m \u001b[38;5;28;01mimport\u001b[39;00m \u001b[38;5;21;01mplotly\u001b[39;00m\u001b[38;5;21;01m.\u001b[39;00m\u001b[38;5;21;01mio\u001b[39;00m \u001b[38;5;28;01mas\u001b[39;00m \u001b[38;5;21;01mpio\u001b[39;00m\n\u001b[1;32m-> 3410\u001b[0m \u001b[38;5;28;01mreturn\u001b[39;00m pio\u001b[38;5;241m.\u001b[39mshow(\u001b[38;5;28mself\u001b[39m, \u001b[38;5;241m*\u001b[39margs, \u001b[38;5;241m*\u001b[39m\u001b[38;5;241m*\u001b[39mkwargs)\n",
      "File \u001b[1;32mc:\\Github\\Luxury_Fashion_Optimization\\.env\\lib\\site-packages\\plotly\\io\\_renderers.py:394\u001b[0m, in \u001b[0;36mshow\u001b[1;34m(fig, renderer, validate, **kwargs)\u001b[0m\n\u001b[0;32m    389\u001b[0m         \u001b[38;5;28;01mraise\u001b[39;00m \u001b[38;5;167;01mValueError\u001b[39;00m(\n\u001b[0;32m    390\u001b[0m             \u001b[38;5;124m\"\u001b[39m\u001b[38;5;124mMime type rendering requires ipython but it is not installed\u001b[39m\u001b[38;5;124m\"\u001b[39m\n\u001b[0;32m    391\u001b[0m         )\n\u001b[0;32m    393\u001b[0m     \u001b[38;5;28;01mif\u001b[39;00m \u001b[38;5;129;01mnot\u001b[39;00m nbformat \u001b[38;5;129;01mor\u001b[39;00m Version(nbformat\u001b[38;5;241m.\u001b[39m__version__) \u001b[38;5;241m<\u001b[39m Version(\u001b[38;5;124m\"\u001b[39m\u001b[38;5;124m4.2.0\u001b[39m\u001b[38;5;124m\"\u001b[39m):\n\u001b[1;32m--> 394\u001b[0m         \u001b[38;5;28;01mraise\u001b[39;00m \u001b[38;5;167;01mValueError\u001b[39;00m(\n\u001b[0;32m    395\u001b[0m             \u001b[38;5;124m\"\u001b[39m\u001b[38;5;124mMime type rendering requires nbformat>=4.2.0 but it is not installed\u001b[39m\u001b[38;5;124m\"\u001b[39m\n\u001b[0;32m    396\u001b[0m         )\n\u001b[0;32m    398\u001b[0m     ipython_display\u001b[38;5;241m.\u001b[39mdisplay(bundle, raw\u001b[38;5;241m=\u001b[39m\u001b[38;5;28;01mTrue\u001b[39;00m)\n\u001b[0;32m    400\u001b[0m \u001b[38;5;66;03m# external renderers\u001b[39;00m\n",
      "\u001b[1;31mValueError\u001b[0m: Mime type rendering requires nbformat>=4.2.0 but it is not installed"
     ]
    }
   ],
   "source": [
    "import pandas as pd\n",
    "import plotly.express as px\n",
    "from dateutil import parser\n",
    "# Leitura do arquivo Excel\n",
    "file_path = \"Anylogic/NewModel/Official/Results.xlsx\"\n",
    "dataframe = pd.read_excel(file_path)\n",
    "\n",
    "\n",
    "\n",
    "# Converter a coluna de strings para datetime\n",
    "dataframe[\"start\"] = dataframe[\"start\"].apply(parser.parse)\n",
    "dataframe[\"queue\"] = dataframe[\"queue\"].apply(parser.parse)\n",
    "dataframe[\"finish\"] = dataframe[\"finish\"].apply(parser.parse)\n",
    "dataframe[\"id\"] = dataframe[\"id\"].astype(str)\n",
    "#dataframe = dataframe[(dataframe['start'] < \"2023-05-06\") & (dataframe['start'] > \"2023-05-05\")]\n",
    "# Ordenar pelo mais antigo para o mais novo nas colunas Data, Start Time e Finish Time\n",
    "dataframe = dataframe.sort_values(by=['machine','start']).reset_index(drop=True)\n",
    "# Criando o gráfico de Gantt\n",
    "fig = px.timeline(\n",
    "    dataframe,\n",
    "    x_start=\"start\",\n",
    "    x_end=\"finish\",\n",
    "    y=\"machine\",\n",
    "    color=\"id\",\n",
    "    title=\"Gantt - Daily Production\"\n",
    ")\n",
    "\n",
    "# Ajustando o layout para melhor visualização\n",
    "fig.update_layout(\n",
    "    xaxis_title=\"Date\",\n",
    "    yaxis_title=\"Machine\",\n",
    "    bargap=0.2\n",
    ")\n",
    "\n",
    "# Exibindo o gráfico\n",
    "fig.show()\n",
    "\n",
    "dataframe.to_excel(\"Results/Teste001.xlsx\", index=False)"
   ]
  }
 ],
 "metadata": {
  "kernelspec": {
   "display_name": ".env",
   "language": "python",
   "name": "python3"
  },
  "language_info": {
   "codemirror_mode": {
    "name": "ipython",
    "version": 3
   },
   "file_extension": ".py",
   "mimetype": "text/x-python",
   "name": "python",
   "nbconvert_exporter": "python",
   "pygments_lexer": "ipython3",
   "version": "3.9.13"
  }
 },
 "nbformat": 4,
 "nbformat_minor": 2
}
